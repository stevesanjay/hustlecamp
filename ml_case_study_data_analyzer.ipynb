{
 "cells": [
  {
   "cell_type": "code",
   "execution_count": 192,
   "id": "fcd4a61b-4f0c-4e04-86dd-a23fafdb8567",
   "metadata": {},
   "outputs": [],
   "source": [
    "import pandas as pd"
   ]
  },
  {
   "cell_type": "code",
   "execution_count": 193,
   "id": "28ab995f-0206-489f-98a4-af6d64f98c0d",
   "metadata": {},
   "outputs": [],
   "source": [
    "data = pd.read_csv('ML system design case studies.csv')"
   ]
  },
  {
   "cell_type": "code",
   "execution_count": 194,
   "id": "5460e790-ccdf-451c-8542-32539ea3c115",
   "metadata": {},
   "outputs": [],
   "source": [
    "data_top = data.head(0) "
   ]
  },
  {
   "cell_type": "code",
   "execution_count": 195,
   "id": "61e9a117-9a4d-465a-808b-f9dc4a398084",
   "metadata": {},
   "outputs": [
    {
     "data": {
      "text/plain": [
       "300"
      ]
     },
     "execution_count": 195,
     "metadata": {},
     "output_type": "execute_result"
    }
   ],
   "source": [
    "len(data)"
   ]
  },
  {
   "cell_type": "code",
   "execution_count": 196,
   "id": "03232c6b-d20a-403e-affc-825a07a48ef7",
   "metadata": {},
   "outputs": [
    {
     "name": "stdout",
     "output_type": "stream",
     "text": [
      "Empty DataFrame\n",
      "Columns: [Company, Industry, Short Description (< 5 words), Title, Tag, Year, Link]\n",
      "Index: []\n"
     ]
    }
   ],
   "source": [
    "print(data_top)"
   ]
  },
  {
   "cell_type": "code",
   "execution_count": 197,
   "id": "309f6f68-4596-43cc-b22a-a51b5a9727a2",
   "metadata": {},
   "outputs": [],
   "source": [
    "col_list = list(df.columns)"
   ]
  },
  {
   "cell_type": "code",
   "execution_count": 198,
   "id": "51f14d12-f5d7-430a-a794-441d80788436",
   "metadata": {},
   "outputs": [
    {
     "data": {
      "text/plain": [
       "['Company',\n",
       " 'Industry',\n",
       " 'Short Description (< 5 words)',\n",
       " 'Title',\n",
       " 'Tag',\n",
       " 'Year',\n",
       " 'Link']"
      ]
     },
     "execution_count": 198,
     "metadata": {},
     "output_type": "execute_result"
    }
   ],
   "source": [
    "col_list"
   ]
  },
  {
   "cell_type": "code",
   "execution_count": 199,
   "id": "0b566a78-e737-43d9-88df-d55efdafe46f",
   "metadata": {},
   "outputs": [
    {
     "name": "stdout",
     "output_type": "stream",
     "text": [
      "Company\n",
      "Industry\n",
      "Short Description (< 5 words)\n",
      "Title\n",
      "Tag\n",
      "Year\n",
      "Link\n"
     ]
    }
   ],
   "source": [
    "for col in col_list:\n",
    "    print(col)"
   ]
  },
  {
   "cell_type": "code",
   "execution_count": 200,
   "id": "afda7aff-bec5-423f-ae35-bc2d219e7a48",
   "metadata": {},
   "outputs": [],
   "source": [
    "df = df[0:3]"
   ]
  },
  {
   "cell_type": "code",
   "execution_count": 201,
   "id": "1c8130d1-6821-4465-84a2-bb3944423a19",
   "metadata": {},
   "outputs": [
    {
     "data": {
      "text/html": [
       "<div>\n",
       "<style scoped>\n",
       "    .dataframe tbody tr th:only-of-type {\n",
       "        vertical-align: middle;\n",
       "    }\n",
       "\n",
       "    .dataframe tbody tr th {\n",
       "        vertical-align: top;\n",
       "    }\n",
       "\n",
       "    .dataframe thead th {\n",
       "        text-align: right;\n",
       "    }\n",
       "</style>\n",
       "<table border=\"1\" class=\"dataframe\">\n",
       "  <thead>\n",
       "    <tr style=\"text-align: right;\">\n",
       "      <th></th>\n",
       "      <th>Company</th>\n",
       "      <th>Industry</th>\n",
       "      <th>Short Description (&lt; 5 words)</th>\n",
       "      <th>Title</th>\n",
       "      <th>Tag</th>\n",
       "      <th>Year</th>\n",
       "      <th>Link</th>\n",
       "    </tr>\n",
       "  </thead>\n",
       "  <tbody>\n",
       "    <tr>\n",
       "      <th>0</th>\n",
       "      <td>Stripe</td>\n",
       "      <td>Fintech and banking</td>\n",
       "      <td>Prevent fraudelent transactions</td>\n",
       "      <td>How we built it: Stripe Radar</td>\n",
       "      <td>fraud detection</td>\n",
       "      <td>2023</td>\n",
       "      <td>https://stripe.com/blog/how-we-built-it-stripe...</td>\n",
       "    </tr>\n",
       "    <tr>\n",
       "      <th>1</th>\n",
       "      <td>Walmart</td>\n",
       "      <td>E-commerce and retail</td>\n",
       "      <td>Recommend complementary items</td>\n",
       "      <td>Personalized ‘Complete the Look’ model</td>\n",
       "      <td>recommender system,product feature,CV</td>\n",
       "      <td>2023</td>\n",
       "      <td>https://medium.com/walmartglobaltech/personali...</td>\n",
       "    </tr>\n",
       "  </tbody>\n",
       "</table>\n",
       "</div>"
      ],
      "text/plain": [
       "   Company               Industry    Short Description (< 5 words)  \\\n",
       "0   Stripe    Fintech and banking  Prevent fraudelent transactions   \n",
       "1  Walmart  E-commerce and retail    Recommend complementary items   \n",
       "\n",
       "                                    Title  \\\n",
       "0           How we built it: Stripe Radar   \n",
       "1  Personalized ‘Complete the Look’ model   \n",
       "\n",
       "                                     Tag  Year  \\\n",
       "0                        fraud detection  2023   \n",
       "1  recommender system,product feature,CV  2023   \n",
       "\n",
       "                                                Link  \n",
       "0  https://stripe.com/blog/how-we-built-it-stripe...  \n",
       "1  https://medium.com/walmartglobaltech/personali...  "
      ]
     },
     "execution_count": 201,
     "metadata": {},
     "output_type": "execute_result"
    }
   ],
   "source": [
    "df"
   ]
  },
  {
   "cell_type": "code",
   "execution_count": 202,
   "id": "ae65be6f-57f5-407c-98b9-12d2aeaef01f",
   "metadata": {},
   "outputs": [],
   "source": [
    "def convert_dataframe_to_text(df, output_text_file, delimiter):\n",
    "    with open(output_text_file, 'w') as text_file:\n",
    "        for column in df.columns:\n",
    "            text_file.write(f\"{column} :\\n\")\n",
    "            for value in df[column]:\n",
    "                text_file.write(f\"{value}\\n\")\n",
    "            text_file.write(\"\\n\")\n",
    "            # print(f\"{text_file}'-'*128\")\n",
    "output_text_file = 'finals.txt'\n",
    "delimiter = f\"-\"*12\n",
    "# convert_dataframe_to_text(df, output_text_file,delimiter)"
   ]
  },
  {
   "cell_type": "code",
   "execution_count": 203,
   "id": "f9b7c5f2-c95a-4fd6-89d2-3070923612b2",
   "metadata": {},
   "outputs": [
    {
     "data": {
      "text/plain": [
       "2"
      ]
     },
     "execution_count": 203,
     "metadata": {},
     "output_type": "execute_result"
    }
   ],
   "source": [
    "len(df)"
   ]
  },
  {
   "cell_type": "code",
   "execution_count": 204,
   "id": "33bd345c-6b8e-46d6-83f6-87341a7dec4d",
   "metadata": {},
   "outputs": [
    {
     "name": "stdout",
     "output_type": "stream",
     "text": [
      "done\n"
     ]
    }
   ],
   "source": [
    "output_text_file = 'finals.txt'\n",
    "\n",
    "\n",
    "with open(output_text_file, 'w') as text_file:\n",
    "    for index, row  in df.iterrows():\n",
    "        company = row['Company']\n",
    "        Industry= row['Industry']\n",
    "        Short  = row['Short Description (< 5 words)']\n",
    "        Title= row['Title'] \n",
    "        Tag= row['Tag'] \n",
    "        Year= row['Year'] \n",
    "        Link= row['Link'] \n",
    "\n",
    "        formatted_content = f\"\"\"\n",
    "Company:\n",
    "{company}\n",
    "\n",
    "\n",
    "Industry:\n",
    "{Industry}\n",
    "\n",
    "\n",
    "Short Description (< 5 words):\n",
    "{Short}\n",
    "\n",
    "Title:\n",
    "{Title}\n",
    "\n",
    "\n",
    "Tag:\n",
    "{Tag}\n",
    "\n",
    "\n",
    "Year:\n",
    "{Year}\n",
    "\n",
    "\n",
    "Link:\n",
    "{Link}\n",
    "\"\"\"\n",
    "\n",
    "        text_file.write(f\"{formatted_content}\\n\")\n",
    "        text_file.write(f\"-\"*122)  # delimiter\n",
    "\n",
    "print(\"done\")"
   ]
  }
 ],
 "metadata": {
  "kernelspec": {
   "display_name": "Python 3 (ipykernel)",
   "language": "python",
   "name": "python3"
  },
  "language_info": {
   "codemirror_mode": {
    "name": "ipython",
    "version": 3
   },
   "file_extension": ".py",
   "mimetype": "text/x-python",
   "name": "python",
   "nbconvert_exporter": "python",
   "pygments_lexer": "ipython3",
   "version": "3.8.13"
  }
 },
 "nbformat": 4,
 "nbformat_minor": 5
}
