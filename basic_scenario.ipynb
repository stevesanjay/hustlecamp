{
 "cells": [
  {
   "cell_type": "code",
   "execution_count": 1,
   "id": "bc56fd38-6b83-4871-9391-616cf5d3af8e",
   "metadata": {},
   "outputs": [],
   "source": [
    "import pandas as pd"
   ]
  },
  {
   "cell_type": "code",
   "execution_count": 3,
   "id": "9f690e92-9732-4c67-bf54-6764a74ca09a",
   "metadata": {},
   "outputs": [],
   "source": [
    "df = pd.read_csv('student-scores.csv')"
   ]
  },
  {
   "cell_type": "code",
   "execution_count": 4,
   "id": "e63f0795-06f8-4c35-9e13-99ef960a62ff",
   "metadata": {},
   "outputs": [
    {
     "name": "stdout",
     "output_type": "stream",
     "text": [
      "        id first_name last_name                                    email  \\\n",
      "0        1       Paul     Casey           paul.casey.1@gslingacademy.com   \n",
      "1        2   Danielle  Sandoval    danielle.sandoval.2@gslingacademy.com   \n",
      "2        3       Tina   Andrews         tina.andrews.3@gslingacademy.com   \n",
      "3        4       Tara     Clark           tara.clark.4@gslingacademy.com   \n",
      "4        5    Anthony    Campos       anthony.campos.5@gslingacademy.com   \n",
      "...    ...        ...       ...                                      ...   \n",
      "1995  1996       Alan  Reynolds     alan.reynolds.1996@gslingacademy.com   \n",
      "1996  1997     Thomas   Gilbert    thomas.gilbert.1997@gslingacademy.com   \n",
      "1997  1998    Madison     Cross     madison.cross.1998@gslingacademy.com   \n",
      "1998  1999   Brittany   Compton  brittany.compton.1999@gslingacademy.com   \n",
      "1999  2000    Natalie     Smith     natalie.smith.2000@gslingacademy.com   \n",
      "\n",
      "      gender  part_time_job  absence_days  extracurricular_activities  \\\n",
      "0       male          False             3                       False   \n",
      "1     female          False             2                       False   \n",
      "2     female          False             9                        True   \n",
      "3     female          False             5                       False   \n",
      "4       male          False             5                       False   \n",
      "...      ...            ...           ...                         ...   \n",
      "1995    male          False             2                       False   \n",
      "1996    male          False             2                       False   \n",
      "1997  female          False             5                       False   \n",
      "1998  female           True            10                        True   \n",
      "1999  female          False             5                       False   \n",
      "\n",
      "      weekly_self_study_hours      career_aspiration  math_score  \\\n",
      "0                          27                 Lawyer          73   \n",
      "1                          47                 Doctor          90   \n",
      "2                          13     Government Officer          81   \n",
      "3                           3                 Artist          71   \n",
      "4                          10                Unknown          84   \n",
      "...                       ...                    ...         ...   \n",
      "1995                       30  Construction Engineer          83   \n",
      "1996                       20      Software Engineer          89   \n",
      "1997                       14      Software Engineer          97   \n",
      "1998                        5         Business Owner          51   \n",
      "1999                       27             Accountant          82   \n",
      "\n",
      "      history_score  physics_score  chemistry_score  biology_score  \\\n",
      "0                81             93               97             63   \n",
      "1                86             96              100             90   \n",
      "2                97             95               96             65   \n",
      "3                74             88               80             89   \n",
      "4                77             65               65             80   \n",
      "...             ...            ...              ...            ...   \n",
      "1995             77             84               73             75   \n",
      "1996             65             73               80             87   \n",
      "1997             85             63               93             68   \n",
      "1998             96             72               89             95   \n",
      "1999             99             91               69             83   \n",
      "\n",
      "      english_score  geography_score  \n",
      "0                80               87  \n",
      "1                88               90  \n",
      "2                77               94  \n",
      "3                63               86  \n",
      "4                74               76  \n",
      "...             ...              ...  \n",
      "1995             84               82  \n",
      "1996             67               73  \n",
      "1997             94               78  \n",
      "1998             88               75  \n",
      "1999             93              100  \n",
      "\n",
      "[2000 rows x 17 columns]\n"
     ]
    }
   ],
   "source": [
    "print(df)"
   ]
  },
  {
   "cell_type": "code",
   "execution_count": 5,
   "id": "e1c26eb0-f5d1-4d52-bdeb-2739aac20ce6",
   "metadata": {},
   "outputs": [
    {
     "data": {
      "text/plain": [
       "2000"
      ]
     },
     "execution_count": 5,
     "metadata": {},
     "output_type": "execute_result"
    }
   ],
   "source": [
    "len(df)"
   ]
  },
  {
   "cell_type": "code",
   "execution_count": 9,
   "id": "98668e72-1193-4b3c-beac-36561fd62e07",
   "metadata": {},
   "outputs": [],
   "source": [
    "female_passenger = df[df['gender'] == 'female']"
   ]
  },
  {
   "cell_type": "code",
   "execution_count": 10,
   "id": "b44c8d00-e2d2-4e0f-8610-dd139032d77e",
   "metadata": {},
   "outputs": [],
   "source": [
    "no_of_females = len(female_passenger)"
   ]
  },
  {
   "cell_type": "code",
   "execution_count": 11,
   "id": "5e705b78-1d70-4687-8271-205370761987",
   "metadata": {},
   "outputs": [
    {
     "name": "stdout",
     "output_type": "stream",
     "text": [
      "Number of females in titaic : 17\n"
     ]
    }
   ],
   "source": [
    "print(\"Number of females in titaic :\",no_of_females)"
   ]
  },
  {
   "cell_type": "code",
   "execution_count": null,
   "id": "73f69025-9f1a-4f89-9245-388bd9a6c089",
   "metadata": {},
   "outputs": [],
   "source": []
  }
 ],
 "metadata": {
  "kernelspec": {
   "display_name": "Python 3 (ipykernel)",
   "language": "python",
   "name": "python3"
  },
  "language_info": {
   "codemirror_mode": {
    "name": "ipython",
    "version": 3
   },
   "file_extension": ".py",
   "mimetype": "text/x-python",
   "name": "python",
   "nbconvert_exporter": "python",
   "pygments_lexer": "ipython3",
   "version": "3.8.13"
  }
 },
 "nbformat": 4,
 "nbformat_minor": 5
}
