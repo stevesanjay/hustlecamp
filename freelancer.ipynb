{
 "cells": [
  {
   "cell_type": "code",
   "execution_count": 11,
   "id": "c0ae7d84-4a06-4c76-82b1-8063a245d499",
   "metadata": {},
   "outputs": [
    {
     "name": "stdout",
     "output_type": "stream",
     "text": [
      "CSV file 'freelancers-na-100k-20240513.csv' created successfully with 100000 rows!\n"
     ]
    }
   ],
   "source": [
    "import csv\n",
    "import random\n",
    "from faker import Faker\n",
    "import pycountry\n",
    "\n",
    "# Initialize Faker\n",
    "faker = Faker()\n",
    "\n",
    "# Dictionary mapping countries to their regions\n",
    "def get_region(country_name):\n",
    "    try:\n",
    "        country = pycountry.countries.get(name=country_name)\n",
    "        return country.subdivision.name\n",
    "    except AttributeError:\n",
    "        return \"Unknown\"\n",
    "\n",
    "# Function to generate random data\n",
    "def generate_data():\n",
    "    job_titles = [\"Software Engineer\", \"Data Scientist\", \"Web Developer\", \"Systems Analyst\", \"Network Administrator\"]\n",
    "    locations = [\"Texas\", \"Ontario\"]\n",
    "    technical_skills = [\"Node.js\", \"Python\", \"Java\", \"RESTful API\", \"SQL\", \"HTML\",\"CSS\", \"JavaScript\",\"React\", \"Vue.js\",\"Docker\", \"Kubernetes\",\"CI/CD\",\" Linux\",\" AWS\"\n",
    "\n",
    "]\n",
    "    languages = [\"English\", \"Spanish\", \"French\", \"German\", \"Mandarin\"]\n",
    "\n",
    "    name = faker.name()\n",
    "    job_title = random.choice(job_titles)\n",
    "    country = random.choice([\"USA\", \"Canada\"])\n",
    "    location = random.choice(locations) if country == \"USA\" else get_region(country)\n",
    "    years_of_experience = random.randint(1, 20)\n",
    "    num_technical_skills = random.randint(1, 5)\n",
    "    num_languages = random.randint(1, 4)\n",
    "\n",
    "    technical_skill = \", \".join(random.sample(technical_skills, num_technical_skills))\n",
    "    language = \", \".join(random.sample(languages, num_languages))\n",
    "\n",
    "    return {\n",
    "        \"Name\": name,\n",
    "        \"Job Title\": job_title,\n",
    "        \"Location\": location,\n",
    "        \"Years of Experience\": years_of_experience,\n",
    "        \"Technical Skill\": technical_skill,\n",
    "        \"Language known\": language\n",
    "    }\n",
    "\n",
    "# Number of rows to generate\n",
    "num_rows = 100000\n",
    "\n",
    "# File name to save\n",
    "file_name = \"freelancers-na-100k-20240513.csv\"\n",
    "\n",
    "# Column names\n",
    "fieldnames = [\"Name\", \"Job Title\", \"Location\", \"Years of Experience\", \"Technical Skill\", \"Language known\"]\n",
    "\n",
    "# Writing data to CSV file\n",
    "with open(file_name, mode='w', newline='', encoding='utf-8') as file:\n",
    "    writer = csv.DictWriter(file, fieldnames=fieldnames)\n",
    "    writer.writeheader()\n",
    "    for _ in range(num_rows):\n",
    "        writer.writerow(generate_data())\n",
    "\n",
    "print(f\"CSV file '{file_name}' created successfully with {num_rows} rows!\")\n"
   ]
  },
  {
   "cell_type": "code",
   "execution_count": null,
   "id": "7df46eb9-74a2-4f67-bf19-58d8d19739a9",
   "metadata": {},
   "outputs": [],
   "source": []
  },
  {
   "cell_type": "code",
   "execution_count": null,
   "id": "6d36f6d2-108b-45e6-9039-6e130785c59d",
   "metadata": {},
   "outputs": [],
   "source": []
  }
 ],
 "metadata": {
  "kernelspec": {
   "display_name": "Python 3 (ipykernel)",
   "language": "python",
   "name": "python3"
  },
  "language_info": {
   "codemirror_mode": {
    "name": "ipython",
    "version": 3
   },
   "file_extension": ".py",
   "mimetype": "text/x-python",
   "name": "python",
   "nbconvert_exporter": "python",
   "pygments_lexer": "ipython3",
   "version": "3.11.7"
  }
 },
 "nbformat": 4,
 "nbformat_minor": 5
}
