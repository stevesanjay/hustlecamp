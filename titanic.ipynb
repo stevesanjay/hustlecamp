{
 "cells": [
  {
   "cell_type": "code",
   "execution_count": 50,
   "id": "eede618c-3cce-4f01-b512-e57b88f2c98c",
   "metadata": {},
   "outputs": [],
   "source": [
    "import pandas as pd "
   ]
  },
  {
   "cell_type": "code",
   "execution_count": 51,
   "id": "772dc477-70f8-4896-b81b-5c3816c95e73",
   "metadata": {
    "editable": true,
    "slideshow": {
     "slide_type": ""
    },
    "tags": []
   },
   "outputs": [],
   "source": [
    "# import matplotlib.pyplot as plt"
   ]
  },
  {
   "cell_type": "code",
   "execution_count": 52,
   "id": "5508d67d-8aeb-43fa-b511-f0fbcb872198",
   "metadata": {
    "editable": true,
    "slideshow": {
     "slide_type": ""
    },
    "tags": []
   },
   "outputs": [],
   "source": [
    "df = pd.read_csv(\"train.csv\")"
   ]
  },
  {
   "cell_type": "code",
   "execution_count": 53,
   "id": "6713a603-6efa-438d-a1a3-75c45e562047",
   "metadata": {
    "editable": true,
    "slideshow": {
     "slide_type": ""
    },
    "tags": []
   },
   "outputs": [
    {
     "name": "stdout",
     "output_type": "stream",
     "text": [
      "     PassengerId  Survived  Pclass  \\\n",
      "0              1         0       3   \n",
      "1              2         1       1   \n",
      "2              3         1       3   \n",
      "3              4         1       1   \n",
      "4              5         0       3   \n",
      "..           ...       ...     ...   \n",
      "886          887         0       2   \n",
      "887          888         1       1   \n",
      "888          889         0       3   \n",
      "889          890         1       1   \n",
      "890          891         0       3   \n",
      "\n",
      "                                                  Name     Sex   Age  SibSp  \\\n",
      "0                              Braund, Mr. Owen Harris    male  22.0      1   \n",
      "1    Cumings, Mrs. John Bradley (Florence Briggs Th...  female  38.0      1   \n",
      "2                               Heikkinen, Miss. Laina  female  26.0      0   \n",
      "3         Futrelle, Mrs. Jacques Heath (Lily May Peel)  female  35.0      1   \n",
      "4                             Allen, Mr. William Henry    male  35.0      0   \n",
      "..                                                 ...     ...   ...    ...   \n",
      "886                              Montvila, Rev. Juozas    male  27.0      0   \n",
      "887                       Graham, Miss. Margaret Edith  female  19.0      0   \n",
      "888           Johnston, Miss. Catherine Helen \"Carrie\"  female   NaN      1   \n",
      "889                              Behr, Mr. Karl Howell    male  26.0      0   \n",
      "890                                Dooley, Mr. Patrick    male  32.0      0   \n",
      "\n",
      "     Parch            Ticket     Fare Cabin Embarked  \n",
      "0        0         A/5 21171   7.2500   NaN        S  \n",
      "1        0          PC 17599  71.2833   C85        C  \n",
      "2        0  STON/O2. 3101282   7.9250   NaN        S  \n",
      "3        0            113803  53.1000  C123        S  \n",
      "4        0            373450   8.0500   NaN        S  \n",
      "..     ...               ...      ...   ...      ...  \n",
      "886      0            211536  13.0000   NaN        S  \n",
      "887      0            112053  30.0000   B42        S  \n",
      "888      2        W./C. 6607  23.4500   NaN        S  \n",
      "889      0            111369  30.0000  C148        C  \n",
      "890      0            370376   7.7500   NaN        Q  \n",
      "\n",
      "[891 rows x 12 columns]\n"
     ]
    }
   ],
   "source": [
    "print(df)"
   ]
  },
  {
   "cell_type": "code",
   "execution_count": 54,
   "id": "3c9a7294-89ea-48dc-adba-300070d62ff4",
   "metadata": {},
   "outputs": [],
   "source": [
    "average_age_by_class = df.groupby('Sex')"
   ]
  },
  {
   "cell_type": "code",
   "execution_count": 55,
   "id": "1bdbd132-8aec-499d-b0bb-f31efa53ff2d",
   "metadata": {
    "editable": true,
    "slideshow": {
     "slide_type": ""
    },
    "tags": []
   },
   "outputs": [
    {
     "name": "stdout",
     "output_type": "stream",
     "text": [
      "<pandas.core.groupby.generic.DataFrameGroupBy object at 0x11612a390>\n"
     ]
    }
   ],
   "source": [
    "print(average_age_by_class)"
   ]
  },
  {
   "cell_type": "code",
   "execution_count": 56,
   "id": "d0933a89-ceea-4eb7-a6ac-4f4736daaa30",
   "metadata": {},
   "outputs": [
    {
     "data": {
      "text/plain": [
       "2"
      ]
     },
     "execution_count": 56,
     "metadata": {},
     "output_type": "execute_result"
    }
   ],
   "source": [
    "len(average_age_by_class)\n"
   ]
  },
  {
   "cell_type": "code",
   "execution_count": 13,
   "id": "e9074f2a-7940-4695-9d2c-aa0b93bbe1a8",
   "metadata": {},
   "outputs": [],
   "source": [
    "female_passenger = df[df['Sex'] == 'female']"
   ]
  },
  {
   "cell_type": "code",
   "execution_count": 14,
   "id": "4ca5c86d-1477-48af-a6db-6e2ac9cc2387",
   "metadata": {},
   "outputs": [],
   "source": [
    "no_of_females = len(female_passenger)"
   ]
  },
  {
   "cell_type": "code",
   "execution_count": 22,
   "id": "f8fcca80-ed59-4cbf-a3cf-3b747e7a49a8",
   "metadata": {},
   "outputs": [
    {
     "name": "stdout",
     "output_type": "stream",
     "text": [
      "Number of females in titaic : 314\n"
     ]
    }
   ],
   "source": [
    "print(\"Number of females in titaic :\",no_of_females)"
   ]
  },
  {
   "cell_type": "code",
   "execution_count": 15,
   "id": "7e334f17-3bf0-4b87-9ee5-166a00489592",
   "metadata": {},
   "outputs": [],
   "source": [
    "age_group = df[df['Age'] > 40]"
   ]
  },
  {
   "cell_type": "code",
   "execution_count": 16,
   "id": "4f0dfa5d-71c5-4117-b36a-7c7fa1219f5e",
   "metadata": {},
   "outputs": [
    {
     "name": "stdout",
     "output_type": "stream",
     "text": [
      "     PassengerId  Survived  Pclass  \\\n",
      "6              7         0       1   \n",
      "11            12         1       1   \n",
      "15            16         1       2   \n",
      "33            34         0       2   \n",
      "35            36         0       1   \n",
      "..           ...       ...     ...   \n",
      "862          863         1       1   \n",
      "865          866         1       2   \n",
      "871          872         1       1   \n",
      "873          874         0       3   \n",
      "879          880         1       1   \n",
      "\n",
      "                                                  Name     Sex   Age  SibSp  \\\n",
      "6                              McCarthy, Mr. Timothy J    male  54.0      0   \n",
      "11                            Bonnell, Miss. Elizabeth  female  58.0      0   \n",
      "15                    Hewlett, Mrs. (Mary D Kingcome)   female  55.0      0   \n",
      "33                               Wheadon, Mr. Edward H    male  66.0      0   \n",
      "35                      Holverson, Mr. Alexander Oskar    male  42.0      1   \n",
      "..                                                 ...     ...   ...    ...   \n",
      "862  Swift, Mrs. Frederick Joel (Margaret Welles Ba...  female  48.0      0   \n",
      "865                           Bystrom, Mrs. (Karolina)  female  42.0      0   \n",
      "871   Beckwith, Mrs. Richard Leonard (Sallie Monypeny)  female  47.0      1   \n",
      "873                        Vander Cruyssen, Mr. Victor    male  47.0      0   \n",
      "879      Potter, Mrs. Thomas Jr (Lily Alexenia Wilson)  female  56.0      0   \n",
      "\n",
      "     Parch      Ticket     Fare Cabin Embarked  \n",
      "6        0       17463  51.8625   E46        S  \n",
      "11       0      113783  26.5500  C103        S  \n",
      "15       0      248706  16.0000   NaN        S  \n",
      "33       0  C.A. 24579  10.5000   NaN        S  \n",
      "35       0      113789  52.0000   NaN        S  \n",
      "..     ...         ...      ...   ...      ...  \n",
      "862      0       17466  25.9292   D17        S  \n",
      "865      0      236852  13.0000   NaN        S  \n",
      "871      1       11751  52.5542   D35        S  \n",
      "873      0      345765   9.0000   NaN        S  \n",
      "879      1       11767  83.1583   C50        C  \n",
      "\n",
      "[150 rows x 12 columns]\n"
     ]
    }
   ],
   "source": [
    "print(age_group)"
   ]
  },
  {
   "cell_type": "code",
   "execution_count": 51,
   "id": "bc13e221-f734-4629-84ac-ee34f14531c1",
   "metadata": {},
   "outputs": [
    {
     "data": {
      "text/plain": [
       "150"
      ]
     },
     "execution_count": 51,
     "metadata": {},
     "output_type": "execute_result"
    }
   ],
   "source": [
    "len(age_group)"
   ]
  },
  {
   "cell_type": "code",
   "execution_count": 28,
   "id": "6b09feaa-00ac-4eb2-8b02-e59fa3439571",
   "metadata": {},
   "outputs": [],
   "source": [
    "passenger_endname = df[df['Name'].apply(lambda x:x.strip().split()[-1][-2:] == 'na')]"
   ]
  },
  {
   "cell_type": "code",
   "execution_count": 29,
   "id": "a4a23951-2eed-42ee-996f-aa97d6034cea",
   "metadata": {
    "editable": true,
    "slideshow": {
     "slide_type": ""
    },
    "tags": []
   },
   "outputs": [
    {
     "name": "stdout",
     "output_type": "stream",
     "text": [
      "Name ending with na members in female:      PassengerId  Survived  Pclass                                  Name  \\\n",
      "2              3         1       3                Heikkinen, Miss. Laina   \n",
      "14            15         0       3  Vestrom, Miss. Hulda Amanda Adolfina   \n",
      "36            37         1       3                      Mamee, Mr. Hanna   \n",
      "113          114         0       3               Jussila, Miss. Katriina   \n",
      "128          129         1       3                     Peter, Miss. Anna   \n",
      "216          217         1       3                Honkanen, Miss. Eliina   \n",
      "218          219         1       1                 Bazzani, Miss. Albina   \n",
      "258          259         1       1                      Ward, Miss. Anna   \n",
      "315          316         1       3       Nilsson, Miss. Helmina Josefina   \n",
      "396          397         0       3                   Olsson, Miss. Elina   \n",
      "402          403         0       3              Jussila, Miss. Mari Aina   \n",
      "417          418         1       2         Silven, Miss. Lyyli Karoliina   \n",
      "419          420         0       3             Van Impe, Miss. Catharina   \n",
      "598          599         0       3                     Boulos, Mr. Hanna   \n",
      "747          748         1       2                 Sinkkonen, Miss. Anna   \n",
      "792          793         0       3               Sage, Miss. Stella Anna   \n",
      "\n",
      "        Sex   Age  SibSp  Parch            Ticket      Fare  Cabin Embarked  \n",
      "2    female  26.0      0      0  STON/O2. 3101282    7.9250    NaN        S  \n",
      "14   female  14.0      0      0            350406    7.8542    NaN        S  \n",
      "36     male   NaN      0      0              2677    7.2292    NaN        C  \n",
      "113  female  20.0      1      0              4136    9.8250    NaN        S  \n",
      "128  female   NaN      1      1              2668   22.3583  F E69        C  \n",
      "216  female  27.0      0      0  STON/O2. 3101283    7.9250    NaN        S  \n",
      "218  female  32.0      0      0             11813   76.2917    D15        C  \n",
      "258  female  35.0      0      0          PC 17755  512.3292    NaN        C  \n",
      "315  female  26.0      0      0            347470    7.8542    NaN        S  \n",
      "396  female  31.0      0      0            350407    7.8542    NaN        S  \n",
      "402  female  21.0      1      0              4137    9.8250    NaN        S  \n",
      "417  female  18.0      0      2            250652   13.0000    NaN        S  \n",
      "419  female  10.0      0      2            345773   24.1500    NaN        S  \n",
      "598    male   NaN      0      0              2664    7.2250    NaN        C  \n",
      "747  female  30.0      0      0            250648   13.0000    NaN        S  \n",
      "792  female   NaN      8      2          CA. 2343   69.5500    NaN        S  \n"
     ]
    }
   ],
   "source": [
    "print(\"Name ending with na members in female:\",passenger_endname)"
   ]
  },
  {
   "cell_type": "code",
   "execution_count": 32,
   "id": "1f20db4d-63c2-407b-965c-3b10c3a99d70",
   "metadata": {},
   "outputs": [],
   "source": [
    "name_parentheses = df[df['Name'].str.contains('\\(|\\)')]"
   ]
  },
  {
   "cell_type": "code",
   "execution_count": 33,
   "id": "47e3d269-ab9d-4dda-bf2d-580ec0f96459",
   "metadata": {
    "editable": true,
    "slideshow": {
     "slide_type": ""
    },
    "tags": []
   },
   "outputs": [
    {
     "data": {
      "text/plain": [
       "143"
      ]
     },
     "execution_count": 33,
     "metadata": {},
     "output_type": "execute_result"
    }
   ],
   "source": [
    "len(name_parentheses)"
   ]
  },
  {
   "cell_type": "code",
   "execution_count": 56,
   "id": "07e732d2-3b1c-4e18-8541-0b02e7972f0e",
   "metadata": {},
   "outputs": [
    {
     "name": "stdout",
     "output_type": "stream",
     "text": [
      "number of passenger haveing parentheses:      PassengerId  Survived  Pclass  \\\n",
      "1              2         1       1   \n",
      "3              4         1       1   \n",
      "8              9         1       3   \n",
      "9             10         1       2   \n",
      "15            16         1       2   \n",
      "..           ...       ...     ...   \n",
      "871          872         1       1   \n",
      "874          875         1       2   \n",
      "879          880         1       1   \n",
      "880          881         1       2   \n",
      "885          886         0       3   \n",
      "\n",
      "                                                  Name     Sex   Age  SibSp  \\\n",
      "1    Cumings, Mrs. John Bradley (Florence Briggs Th...  female  38.0      1   \n",
      "3         Futrelle, Mrs. Jacques Heath (Lily May Peel)  female  35.0      1   \n",
      "8    Johnson, Mrs. Oscar W (Elisabeth Vilhelmina Berg)  female  27.0      0   \n",
      "9                  Nasser, Mrs. Nicholas (Adele Achem)  female  14.0      1   \n",
      "15                    Hewlett, Mrs. (Mary D Kingcome)   female  55.0      0   \n",
      "..                                                 ...     ...   ...    ...   \n",
      "871   Beckwith, Mrs. Richard Leonard (Sallie Monypeny)  female  47.0      1   \n",
      "874              Abelson, Mrs. Samuel (Hannah Wizosky)  female  28.0      1   \n",
      "879      Potter, Mrs. Thomas Jr (Lily Alexenia Wilson)  female  56.0      0   \n",
      "880       Shelley, Mrs. William (Imanita Parrish Hall)  female  25.0      0   \n",
      "885               Rice, Mrs. William (Margaret Norton)  female  39.0      0   \n",
      "\n",
      "     Parch     Ticket     Fare Cabin Embarked  \n",
      "1        0   PC 17599  71.2833   C85        C  \n",
      "3        0     113803  53.1000  C123        S  \n",
      "8        2     347742  11.1333   NaN        S  \n",
      "9        0     237736  30.0708   NaN        C  \n",
      "15       0     248706  16.0000   NaN        S  \n",
      "..     ...        ...      ...   ...      ...  \n",
      "871      1      11751  52.5542   D35        S  \n",
      "874      0  P/PP 3381  24.0000   NaN        C  \n",
      "879      1      11767  83.1583   C50        C  \n",
      "880      1     230433  26.0000   NaN        S  \n",
      "885      5     382652  29.1250   NaN        Q  \n",
      "\n",
      "[143 rows x 12 columns]\n"
     ]
    }
   ],
   "source": [
    "print(\"number of passenger haveing parentheses:\",name_parentheses)"
   ]
  },
  {
   "cell_type": "code",
   "execution_count": 58,
   "id": "0a2950be-fbc1-428e-a241-4181fea5a57e",
   "metadata": {},
   "outputs": [],
   "source": [
    "pie_chart = df['Pclass'].value_count()"
   ]
  },
  {
   "cell_type": "code",
   "execution_count": null,
   "id": "03145efa-00f0-4d24-b636-ebbf84b9a07b",
   "metadata": {},
   "outputs": [],
   "source": [
    "#plot a pie chart \n",
    "# plt.figure(figuresize=(8,7))\n",
    "# pie_count.plot(kind ='pie', autopct ='%1.1f%%', straight angle = 90, colours =['red' ,'blue','green'])\n",
    "           "
   ]
  },
  {
   "cell_type": "code",
   "execution_count": 64,
   "id": "a900d3fe-5c94-4339-bc69-cc11356f26f3",
   "metadata": {
    "editable": true,
    "slideshow": {
     "slide_type": ""
    },
    "tags": []
   },
   "outputs": [],
   "source": [
    "not_married = df[df['Name'].str.contains('Miss', case=False)]"
   ]
  },
  {
   "cell_type": "code",
   "execution_count": 65,
   "id": "cdc2af48-9c05-4bae-bc10-7e348853de5c",
   "metadata": {},
   "outputs": [
    {
     "name": "stdout",
     "output_type": "stream",
     "text": [
      "How many miss (not married) in passenger list:      PassengerId  Survived  Pclass                                      Name  \\\n",
      "2              3         1       3                    Heikkinen, Miss. Laina   \n",
      "10            11         1       3           Sandstrom, Miss. Marguerite Rut   \n",
      "11            12         1       1                  Bonnell, Miss. Elizabeth   \n",
      "14            15         0       3      Vestrom, Miss. Hulda Amanda Adolfina   \n",
      "22            23         1       3               McGowan, Miss. Anna \"Annie\"   \n",
      "..           ...       ...     ...                                       ...   \n",
      "866          867         1       2              Duran y More, Miss. Asuncion   \n",
      "875          876         1       3          Najib, Miss. Adele Kiamie \"Jane\"   \n",
      "882          883         0       3              Dahlberg, Miss. Gerda Ulrika   \n",
      "887          888         1       1              Graham, Miss. Margaret Edith   \n",
      "888          889         0       3  Johnston, Miss. Catherine Helen \"Carrie\"   \n",
      "\n",
      "        Sex   Age  SibSp  Parch            Ticket     Fare Cabin Embarked  \n",
      "2    female  26.0      0      0  STON/O2. 3101282   7.9250   NaN        S  \n",
      "10   female   4.0      1      1           PP 9549  16.7000    G6        S  \n",
      "11   female  58.0      0      0            113783  26.5500  C103        S  \n",
      "14   female  14.0      0      0            350406   7.8542   NaN        S  \n",
      "22   female  15.0      0      0            330923   8.0292   NaN        Q  \n",
      "..      ...   ...    ...    ...               ...      ...   ...      ...  \n",
      "866  female  27.0      1      0     SC/PARIS 2149  13.8583   NaN        C  \n",
      "875  female  15.0      0      0              2667   7.2250   NaN        C  \n",
      "882  female  22.0      0      0              7552  10.5167   NaN        S  \n",
      "887  female  19.0      0      0            112053  30.0000   B42        S  \n",
      "888  female   NaN      1      2        W./C. 6607  23.4500   NaN        S  \n",
      "\n",
      "[182 rows x 12 columns]\n"
     ]
    }
   ],
   "source": [
    "print(\"How many miss (not married) in passenger list:\",not_married)"
   ]
  },
  {
   "cell_type": "code",
   "execution_count": 66,
   "id": "781b566d-0069-435a-af26-f6b610a929d9",
   "metadata": {},
   "outputs": [
    {
     "data": {
      "text/plain": [
       "182"
      ]
     },
     "execution_count": 66,
     "metadata": {},
     "output_type": "execute_result"
    }
   ],
   "source": [
    "len(not_married)"
   ]
  },
  {
   "cell_type": "code",
   "execution_count": 34,
   "id": "19b7bb3b-c512-418d-8826-fb29f8ad2142",
   "metadata": {},
   "outputs": [],
   "source": [
    "#paid under 20"
   ]
  },
  {
   "cell_type": "code",
   "execution_count": 35,
   "id": "82cbae01-08a5-4abd-82c0-0e04ac937468",
   "metadata": {},
   "outputs": [],
   "source": [
    "paid = df[df['Fare']<20]"
   ]
  },
  {
   "cell_type": "code",
   "execution_count": 36,
   "id": "a4194b3e-23f7-4eca-8f24-8a53115998a9",
   "metadata": {},
   "outputs": [
    {
     "name": "stdout",
     "output_type": "stream",
     "text": [
      " who paid under 20:      PassengerId  Survived  Pclass  \\\n",
      "0              1         0       3   \n",
      "2              3         1       3   \n",
      "4              5         0       3   \n",
      "5              6         0       3   \n",
      "8              9         1       3   \n",
      "..           ...       ...     ...   \n",
      "882          883         0       3   \n",
      "883          884         0       2   \n",
      "884          885         0       3   \n",
      "886          887         0       2   \n",
      "890          891         0       3   \n",
      "\n",
      "                                                  Name     Sex   Age  SibSp  \\\n",
      "0                              Braund, Mr. Owen Harris    male  22.0      1   \n",
      "2                               Heikkinen, Miss. Laina  female  26.0      0   \n",
      "4                             Allen, Mr. William Henry    male  35.0      0   \n",
      "5                                     Moran, Mr. James    male   NaN      0   \n",
      "8    Johnson, Mrs. Oscar W (Elisabeth Vilhelmina Berg)  female  27.0      0   \n",
      "..                                                 ...     ...   ...    ...   \n",
      "882                       Dahlberg, Miss. Gerda Ulrika  female  22.0      0   \n",
      "883                      Banfield, Mr. Frederick James    male  28.0      0   \n",
      "884                             Sutehall, Mr. Henry Jr    male  25.0      0   \n",
      "886                              Montvila, Rev. Juozas    male  27.0      0   \n",
      "890                                Dooley, Mr. Patrick    male  32.0      0   \n",
      "\n",
      "     Parch            Ticket     Fare Cabin Embarked  \n",
      "0        0         A/5 21171   7.2500   NaN        S  \n",
      "2        0  STON/O2. 3101282   7.9250   NaN        S  \n",
      "4        0            373450   8.0500   NaN        S  \n",
      "5        0            330877   8.4583   NaN        Q  \n",
      "8        2            347742  11.1333   NaN        S  \n",
      "..     ...               ...      ...   ...      ...  \n",
      "882      0              7552  10.5167   NaN        S  \n",
      "883      0  C.A./SOTON 34068  10.5000   NaN        S  \n",
      "884      0   SOTON/OQ 392076   7.0500   NaN        S  \n",
      "886      0            211536  13.0000   NaN        S  \n",
      "890      0            370376   7.7500   NaN        Q  \n",
      "\n",
      "[515 rows x 12 columns]\n"
     ]
    }
   ],
   "source": [
    "print(\" who paid under 20:\",paid)"
   ]
  },
  {
   "cell_type": "code",
   "execution_count": 75,
   "id": "2a7c784c-ce63-4c2d-9076-5b1c9af39493",
   "metadata": {
    "editable": true,
    "slideshow": {
     "slide_type": ""
    },
    "tags": []
   },
   "outputs": [
    {
     "data": {
      "text/plain": [
       "515"
      ]
     },
     "execution_count": 75,
     "metadata": {},
     "output_type": "execute_result"
    }
   ],
   "source": [
    "len(paid)"
   ]
  },
  {
   "cell_type": "code",
   "execution_count": 43,
   "id": "a08fbb83-b9ee-4980-a7c0-835b9b89e86b",
   "metadata": {},
   "outputs": [],
   "source": [
    "sur = df[df['Survived'] == 1].shape[0]"
   ]
  },
  {
   "cell_type": "code",
   "execution_count": 44,
   "id": "b510e6df-b344-4b3c-bbc7-471be3c26167",
   "metadata": {},
   "outputs": [
    {
     "name": "stdout",
     "output_type": "stream",
     "text": [
      "survived count: 342\n"
     ]
    }
   ],
   "source": [
    "print(\"survived count:\",sur)"
   ]
  },
  {
   "cell_type": "code",
   "execution_count": 47,
   "id": "ec0b772f-e54c-4701-983e-47a87462d06b",
   "metadata": {
    "editable": true,
    "slideshow": {
     "slide_type": ""
    },
    "tags": []
   },
   "outputs": [],
   "source": [
    "survive_pclass = df[(df['Pclass'] == 3) & (df['Survived'] ==1)].shape[0]"
   ]
  },
  {
   "cell_type": "code",
   "execution_count": 48,
   "id": "3a94c202-7e6a-4662-991e-6cbd7ed00f6f",
   "metadata": {},
   "outputs": [
    {
     "name": "stdout",
     "output_type": "stream",
     "text": [
      "how many people survive on pclass 3: 119\n"
     ]
    }
   ],
   "source": [
    "print(\"how many people survive on pclass 3:\",survive_pclass)"
   ]
  },
  {
   "cell_type": "code",
   "execution_count": null,
   "id": "de187128-41f1-4214-af67-4bfdb7e918fd",
   "metadata": {},
   "outputs": [],
   "source": []
  }
 ],
 "metadata": {
  "kernelspec": {
   "display_name": "Python 3 (ipykernel)",
   "language": "python",
   "name": "python3"
  },
  "language_info": {
   "codemirror_mode": {
    "name": "ipython",
    "version": 3
   },
   "file_extension": ".py",
   "mimetype": "text/x-python",
   "name": "python",
   "nbconvert_exporter": "python",
   "pygments_lexer": "ipython3",
   "version": "3.8.13"
  }
 },
 "nbformat": 4,
 "nbformat_minor": 5
}
