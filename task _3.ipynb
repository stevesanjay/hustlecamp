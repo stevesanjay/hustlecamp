{
 "cells": [
  {
   "cell_type": "code",
   "execution_count": 2,
   "id": "b76fb918-bf36-4212-8932-4efa4dd23daa",
   "metadata": {},
   "outputs": [],
   "source": [
    "import pandas as pd\n",
    "from textblob import TextBlob"
   ]
  },
  {
   "cell_type": "code",
   "execution_count": 3,
   "id": "7f1f1d1f-cb6a-4f0d-bedb-44bc03f32529",
   "metadata": {},
   "outputs": [],
   "source": [
    "df=pd.read_csv(\"mousepad_reviews.csv\")"
   ]
  },
  {
   "cell_type": "code",
   "execution_count": 4,
   "id": "9bc929fa-3da5-4382-b64c-3a47282d8e13",
   "metadata": {},
   "outputs": [
    {
     "name": "stdout",
     "output_type": "stream",
     "text": [
      "                                                     url  \\\n",
      "0      https://aax-eu.amazon.in/x/c/RHU9bKtB3gE5MgHwZ...   \n",
      "1      https://aax-eu.amazon.in/x/c/RHU9bKtB3gE5MgHwZ...   \n",
      "2      https://aax-eu.amazon.in/x/c/RHU9bKtB3gE5MgHwZ...   \n",
      "3      https://aax-eu.amazon.in/x/c/RHU9bKtB3gE5MgHwZ...   \n",
      "4      https://aax-eu.amazon.in/x/c/RHU9bKtB3gE5MgHwZ...   \n",
      "...                                                  ...   \n",
      "13417  https://www.amazon.in/Sounce-Antifray-Stitched...   \n",
      "13418  https://www.amazon.in/Sounce-Antifray-Stitched...   \n",
      "13419  https://www.amazon.in/Sounce-Antifray-Stitched...   \n",
      "13420  https://www.amazon.in/Sounce-Antifray-Stitched...   \n",
      "13421  https://www.amazon.in/Sounce-Antifray-Stitched...   \n",
      "\n",
      "                                                   title  price  \\\n",
      "0      Tukzer RGB Gaming Mouse Pad, Large Extended So...  1,179   \n",
      "1      Tukzer RGB Gaming Mouse Pad, Large Extended So...  1,179   \n",
      "2      Tukzer RGB Gaming Mouse Pad, Large Extended So...  1,179   \n",
      "3      Tukzer RGB Gaming Mouse Pad, Large Extended So...  1,179   \n",
      "4      Tukzer RGB Gaming Mouse Pad, Large Extended So...  1,179   \n",
      "...                                                  ...    ...   \n",
      "13417  Sounce Mouse Pad Speed Type Mouse Pad with Ant...     99   \n",
      "13418  Sounce Mouse Pad Speed Type Mouse Pad with Ant...     99   \n",
      "13419  Sounce Mouse Pad Speed Type Mouse Pad with Ant...     99   \n",
      "13420  Sounce Mouse Pad Speed Type Mouse Pad with Ant...     99   \n",
      "13421  Sounce Mouse Pad Speed Type Mouse Pad with Ant...     99   \n",
      "\n",
      "                                        review_title    reviewers_rating  \\\n",
      "0                                               Good  4.0 out of 5 stars   \n",
      "1                             Amazing RGB Gaming pad  5.0 out of 5 stars   \n",
      "2                                        Loved IT!❤️  5.0 out of 5 stars   \n",
      "3                                          Just awsm  5.0 out of 5 stars   \n",
      "4                                Usb hub is useless!  2.0 out of 5 stars   \n",
      "...                                              ...                 ...   \n",
      "13417                         Quality , Perfect Size  5.0 out of 5 stars   \n",
      "13418                                 Great and Good  5.0 out of 5 stars   \n",
      "13419  \"Compact and Reliable Mouse Pad - Great Buy!\"  4.0 out of 5 stars   \n",
      "13420                        Smooth and high Quality  5.0 out of 5 stars   \n",
      "13421                       Good for the given price  5.0 out of 5 stars   \n",
      "\n",
      "                                                  review review_location  \\\n",
      "0                                           Good product           india   \n",
      "1      I like the colours and durability of these RGB...           india   \n",
      "2      Well I'm in love with this mouse pad. I'm no g...           india   \n",
      "3      Using since from 1 month &amp; perfect smoothn...           india   \n",
      "4      The quality of the product and the light is ok...           india   \n",
      "...                                                  ...             ...   \n",
      "13417  Design and build quality of this mouse pad is ...           india   \n",
      "13418  Recently purchased this mousepad online,<br>De...           india   \n",
      "13419  I recently purchased the ABC MiniPad Mouse Pad...           india   \n",
      "13420  Product Review: Premium Gaming Mouse Pad<br><b...           india   \n",
      "13421  recently purchased this mousepad online, and I...           india   \n",
      "\n",
      "             review_date        reviewed_by collected_by  \n",
      "0        19 January 2022            mathana       Bagiya  \n",
      "1          12 April 2022        SeLvASwEeT        Bagiya  \n",
      "2           21 June 2021  Nikhil Chaurasiya       Bagiya  \n",
      "3        25 October 2022           Vishu G.       Bagiya  \n",
      "4            24 May 2022    Amazon Customer       Bagiya  \n",
      "...                  ...                ...          ...  \n",
      "13417       3 April 2024   Paresh Khachane        Bagiya  \n",
      "13418      28 March 2024      Santhoshkumar       Bagiya  \n",
      "13419      11 March 2024      Utkarsh kumar       Bagiya  \n",
      "13420       4 March 2024        Trupt Swami       Bagiya  \n",
      "13421   29 February 2024         Tarak Shah       Bagiya  \n",
      "\n",
      "[13422 rows x 10 columns]\n"
     ]
    }
   ],
   "source": [
    "print(df)"
   ]
  },
  {
   "cell_type": "code",
   "execution_count": 5,
   "id": "23ca3156-8c5c-4b74-b990-10a6627ac888",
   "metadata": {},
   "outputs": [
    {
     "name": "stdout",
     "output_type": "stream",
     "text": [
      "0        1179\n",
      "1        1179\n",
      "2        1179\n",
      "3        1179\n",
      "4        1179\n",
      "         ... \n",
      "13417      99\n",
      "13418      99\n",
      "13419      99\n",
      "13420      99\n",
      "13421      99\n",
      "Name: price, Length: 13422, dtype: object\n"
     ]
    }
   ],
   "source": [
    "price_remove_comma=df[\"price\"].str.replace(\",\",\"\")\n",
    "print(price_remove_comma)"
   ]
  },
  {
   "cell_type": "code",
   "execution_count": 9,
   "id": "001d09cd-c39b-4457-a9c0-25804563c864",
   "metadata": {},
   "outputs": [
    {
     "name": "stdout",
     "output_type": "stream",
     "text": [
      "review\n",
      "Good                                                                                                                                                                                                                                                                                                                                                                                                                                                                                                                                                                                                                                                                                                                                                                                                                                                                                                                                                                                                                                                                                                                                                                                                                                                                                                                                                                                                                                                                                                                                                                                                                                                                                                                                                                                                                                                                                                                                                                                                                                                                                                                                                                                                                                                                                                                                                                                                                                                                                                                                                                                                     182\n",
      "Good product                                                                                                                                                                                                                                                                                                                                                                                                                                                                                                                                                                                                                                                                                                                                                                                                                                                                                                                                                                                                                                                                                                                                                                                                                                                                                                                                                                                                                                                                                                                                                                                                                                                                                                                                                                                                                                                                                                                                                                                                                                                                                                                                                                                                                                                                                                                                                                                                                                                                                                                                                                                             102\n",
      "Value for money                                                                                                                                                                                                                                                                                                                                                                                                                                                                                                                                                                                                                                                                                                                                                                                                                                                                                                                                                                                                                                                                                                                                                                                                                                                                                                                                                                                                                                                                                                                                                                                                                                                                                                                                                                                                                                                                                                                                                                                                                                                                                                                                                                                                                                                                                                                                                                                                                                                                                                                                                                                           85\n",
      "Good quality                                                                                                                                                                                                                                                                                                                                                                                                                                                                                                                                                                                                                                                                                                                                                                                                                                                                                                                                                                                                                                                                                                                                                                                                                                                                                                                                                                                                                                                                                                                                                                                                                                                                                                                                                                                                                                                                                                                                                                                                                                                                                                                                                                                                                                                                                                                                                                                                                                                                                                                                                                                              72\n",
      "Nice product                                                                                                                                                                                                                                                                                                                                                                                                                                                                                                                                                                                                                                                                                                                                                                                                                                                                                                                                                                                                                                                                                                                                                                                                                                                                                                                                                                                                                                                                                                                                                                                                                                                                                                                                                                                                                                                                                                                                                                                                                                                                                                                                                                                                                                                                                                                                                                                                                                                                                                                                                                                              66\n",
      "                                                                                                                                                                                                                                                                                                                                                                                                                                                                                                                                                                                                                                                                                                                                                                                                                                                                                                                                                                                                                                                                                                                                                                                                                                                                                                                                                                                                                                                                                                                                                                                                                                                                                                                                                                                                                                                                                                                                                                                                                                                                                                                                                                                                                                                                                                                                                                                                                                                                                                                                                                                                        ... \n",
      "Decent size and nice fabric on top. Color seems to smudge in places. Not sure if it can last a wash.                                                                                                                                                                                                                                                                                                                                                                                                                                                                                                                                                                                                                                                                                                                                                                                                                                                                                                                                                                                                                                                                                                                                                                                                                                                                                                                                                                                                                                                                                                                                                                                                                                                                                                                                                                                                                                                                                                                                                                                                                                                                                                                                                                                                                                                                                                                                                                                                                                                                                                       1\n",
      "Please don't buy, I'm using a logitech G102 mouse and it feels like the mouse is on sand or something. Moving the mouse has become very difficult for me, because when the mouse skates touch the pad's surface, idk it resists to move smoothly as it should, where as it produces slight friction which makes it very difficult to use in day to day life, However the print quality is very nice but that's secondary. And I'm writing this review after 4-5 months of using it. Please stay away from this. buy a cheap mouse pad from local shop.                                                                                                                                                                                                                                                                                                                                                                                                                                                                                                                                                                                                                                                                                                                                                                                                                                                                                                                                                                                                                                                                                                                                                                                                                                                                                                                                                                                                                                                                                                                                                                                                                                                                                                                                                                                                                                                                                                                                                                                                                                                     1\n",
      "The product is good as an extended mouse pad, but the data of the periodic table is misprinted. (wrong)                                                                                                                                                                                                                                                                                                                                                                                                                                                                                                                                                                                                                                                                                                                                                                                                                                                                                                                                                                                                                                                                                                                                                                                                                                                                                                                                                                                                                                                                                                                                                                                                                                                                                                                                                                                                                                                                                                                                                                                                                                                                                                                                                                                                                                                                                                                                                                                                                                                                                                    1\n",
      "Great item prin quality is better than it looks in picture                                                                                                                                                                                                                                                                                                                                                                                                                                                                                                                                                                                                                                                                                                                                                                                                                                                                                                                                                                                                                                                                                                                                                                                                                                                                                                                                                                                                                                                                                                                                                                                                                                                                                                                                                                                                                                                                                                                                                                                                                                                                                                                                                                                                                                                                                                                                                                                                                                                                                                                                                 1\n",
      "I recently purchased the Redgear MP35 Speed-Type Gaming Mousepad, and I must say, it has been an absolute steal at just ₹149! This gaming mousepad has impressed me in various aspects, making it an excellent addition to my gaming setup.<br><br>First and foremost, the price point of this mousepad is unbeatable. For such a budget-friendly cost, I wasn't expecting such a high-quality product. The value for money it offers is truly exceptional. It is rare to find a gaming mousepad with such features at such an affordable price.<br><br>One of the standout features of the Redgear MP35 is its soft material. The surface feels incredibly smooth and comfortable under my hand while gaming. This is crucial as it reduces any discomfort during long gaming sessions and allows for precise mouse movements. The texture strikes the right balance between smoothness and friction, ensuring both speed and accuracy in gameplay.<br><br>The quality of the material used is top-notch. Even at this low price point, the mousepad has proven to be durable and long-lasting. The edges are well stitched, preventing any fraying or damage over time. It shows that Redgear has put effort into ensuring the longevity of the product, which is always appreciated.<br><br>As a gaming enthusiast, I can vouch for its performance in gaming. The surface's speed-type characteristic provides an excellent glide for my gaming mouse. This means quick and fluid movements, essential for competitive gameplay in various genres like FPS and MOBA. Whether I'm making precise flick shots or performing swift actions, the Redgear MP35 supports my gaming needs effectively.<br><br>Moreover, the size of the mousepad is just right for my desk setup. It provides ample space for both low and high mouse sensitivity users, and the non-slip rubber base keeps it firmly in place, preventing any annoying slipping during intense gaming sessions.<br><br>I must also mention that the aesthetics of the mousepad are visually appealing. The Redgear logo and design add a touch of gaming flair to my setup, enhancing the overall gaming ambiance.<br><br>In conclusion, the Redgear MP35 Speed-Type Gaming Mousepad is an outstanding product, especially given its incredibly low price of just ₹149. Its soft and smooth material, high-quality construction, and excellent gaming performance make it an absolute steal. Whether you're a casual gamer or a competitive enthusiast, this mousepad will surely impress you with its value for money and performance.      1\n",
      "Name: count, Length: 5539, dtype: int64\n"
     ]
    }
   ],
   "source": [
    "words_counts=df[\"review\"].value_counts()\n",
    "print(words_counts)"
   ]
  },
  {
   "cell_type": "code",
   "execution_count": 6,
   "id": "d502cfef-c34f-416b-bac7-533a01f7aa71",
   "metadata": {},
   "outputs": [
    {
     "name": "stdout",
     "output_type": "stream",
     "text": [
      "5539\n"
     ]
    }
   ],
   "source": [
    "print(len(words_counts))"
   ]
  },
  {
   "cell_type": "code",
   "execution_count": 11,
   "id": "08bdb0d9-2852-45b7-bde8-087669e94f8e",
   "metadata": {},
   "outputs": [
    {
     "name": "stdout",
     "output_type": "stream",
     "text": [
      "                                                  review  word_count\n",
      "0                                           Good product           2\n",
      "1      I like the colours and durability of these RGB...          17\n",
      "2      Well I'm in love with this mouse pad. I'm no g...          43\n",
      "3      Using since from 1 month &amp; perfect smoothn...          11\n",
      "4      The quality of the product and the light is ok...          55\n",
      "...                                                  ...         ...\n",
      "13417  Design and build quality of this mouse pad is ...          28\n",
      "13418  Recently purchased this mousepad online,<br>De...          58\n",
      "13419  I recently purchased the ABC MiniPad Mouse Pad...         106\n",
      "13420  Product Review: Premium Gaming Mouse Pad<br><b...         337\n",
      "13421  recently purchased this mousepad online, and I...         118\n",
      "\n",
      "[13422 rows x 2 columns]\n"
     ]
    }
   ],
   "source": [
    "df['word_count'] = df['review'].apply(lambda x: len(str(x).split()))\n",
    "print(df[['review', 'word_count']])"
   ]
  },
  {
   "cell_type": "code",
   "execution_count": 18,
   "id": "adcb04b7-755b-41a4-97a4-2c3bdebb93b5",
   "metadata": {},
   "outputs": [
    {
     "name": "stdout",
     "output_type": "stream",
     "text": [
      "      reviewers_rating\n",
      "0                  4.0\n",
      "1                  5.0\n",
      "2                  5.0\n",
      "3                  5.0\n",
      "4                  2.0\n",
      "...                ...\n",
      "13417              5.0\n",
      "13418              5.0\n",
      "13419              4.0\n",
      "13420              5.0\n",
      "13421              5.0\n",
      "\n",
      "[13422 rows x 1 columns]\n"
     ]
    }
   ],
   "source": [
    "df['reviewers_rating'] = df['reviewers_rating'].str.replace(' out of 5 stars', '')\n",
    "\n",
    "\n",
    "print(df[['reviewers_rating']])"
   ]
  },
  {
   "cell_type": "code",
   "execution_count": 16,
   "id": "cd5a567c-612f-4e41-8836-36192d32e48a",
   "metadata": {},
   "outputs": [
    {
     "name": "stdout",
     "output_type": "stream",
     "text": [
      "Correlation between sentiment scores and review ratings: 0.40287128095646296\n"
     ]
    }
   ],
   "source": [
    "def get_sentiment(text):\n",
    "    if pd.isnull(text):  # Check for NaN values\n",
    "        return 0  # Assigning neutral sentiment score for NaN values\n",
    "    analysis = TextBlob(str(text))  # Convert to string to handle NaN\n",
    "    # Return polarity as sentiment score (-1 for negative, 0 for neutral, 1 for positive)\n",
    "    return analysis.sentiment.polarity\n",
    "\n",
    "# Apply sentiment analysis to each review\n",
    "df['sentiment_score'] = df['review'].apply(get_sentiment)\n",
    "\n",
    "# Step 3: Preprocess the Ratings\n",
    "# Extract numeric ratings from the \"reviewers_rating\" column\n",
    "df['numeric_rating'] = df['reviewers_rating'].str.extract(r'(\\d+\\.\\d+|\\d+)').astype(float)\n",
    "\n",
    "# Step 4: Analyze Correlation\n",
    "# Calculate correlation between sentiment scores and numeric ratings\n",
    "correlation = df['sentiment_score'].corr(df['numeric_rating'])\n",
    "\n",
    "print(\"Correlation between sentiment scores and review ratings:\", correlation)"
   ]
  },
  {
   "cell_type": "code",
   "execution_count": null,
   "id": "1542f7ba-a572-413c-9186-10ae96961a8e",
   "metadata": {},
   "outputs": [],
   "source": []
  }
 ],
 "metadata": {
  "kernelspec": {
   "display_name": "Python 3 (ipykernel)",
   "language": "python",
   "name": "python3"
  },
  "language_info": {
   "codemirror_mode": {
    "name": "ipython",
    "version": 3
   },
   "file_extension": ".py",
   "mimetype": "text/x-python",
   "name": "python",
   "nbconvert_exporter": "python",
   "pygments_lexer": "ipython3",
   "version": "3.12.2"
  }
 },
 "nbformat": 4,
 "nbformat_minor": 5
}
