{
 "cells": [
  {
   "cell_type": "code",
   "execution_count": 1,
   "id": "16abb083-8e70-4959-8085-673ac42f4946",
   "metadata": {},
   "outputs": [],
   "source": [
    "num =2"
   ]
  },
  {
   "cell_type": "code",
   "execution_count": 2,
   "id": "a312e644-ecf0-4e89-b58c-aa73501b9cba",
   "metadata": {},
   "outputs": [
    {
     "data": {
      "text/plain": [
       "4"
      ]
     },
     "execution_count": 2,
     "metadata": {},
     "output_type": "execute_result"
    }
   ],
   "source": [
    "num + num"
   ]
  },
  {
   "cell_type": "code",
   "execution_count": 3,
   "id": "1d5ac934-8b8d-4a73-a1f8-0ff9692f0386",
   "metadata": {},
   "outputs": [],
   "source": [
    "num =\"2\""
   ]
  },
  {
   "cell_type": "code",
   "execution_count": 4,
   "id": "86e17787-a4d1-4864-9caf-2f16b5424300",
   "metadata": {},
   "outputs": [
    {
     "data": {
      "text/plain": [
       "'22'"
      ]
     },
     "execution_count": 4,
     "metadata": {},
     "output_type": "execute_result"
    }
   ],
   "source": [
    "num + num"
   ]
  },
  {
   "cell_type": "code",
   "execution_count": 7,
   "id": "12b6872b-d3eb-44e5-b205-34d744ebc44d",
   "metadata": {},
   "outputs": [
    {
     "name": "stdout",
     "output_type": "stream",
     "text": [
      "2\n"
     ]
    }
   ],
   "source": [
    "print(num)"
   ]
  },
  {
   "cell_type": "code",
   "execution_count": 8,
   "id": "c07e9b7e-8909-49b1-9855-10290a8acbc6",
   "metadata": {},
   "outputs": [
    {
     "data": {
      "text/plain": [
       "12"
      ]
     },
     "execution_count": 8,
     "metadata": {},
     "output_type": "execute_result"
    }
   ],
   "source": [
    "int(12)"
   ]
  },
  {
   "cell_type": "code",
   "execution_count": 10,
   "id": "54df3c10-3fe0-4f1b-945f-391d47989d2f",
   "metadata": {},
   "outputs": [
    {
     "data": {
      "text/plain": [
       "12.0"
      ]
     },
     "execution_count": 10,
     "metadata": {},
     "output_type": "execute_result"
    }
   ],
   "source": [
    "float(\"12\")"
   ]
  },
  {
   "cell_type": "code",
   "execution_count": 14,
   "id": "d6261273-4217-4c89-a5cc-daeadff84be5",
   "metadata": {},
   "outputs": [],
   "source": [
    "num_pancake = 10"
   ]
  },
  {
   "cell_type": "code",
   "execution_count": 15,
   "id": "671aea8e-fee7-47bb-9202-bbde3d2e30af",
   "metadata": {},
   "outputs": [
    {
     "data": {
      "text/plain": [
       "'I am going to eat10pancake.'"
      ]
     },
     "execution_count": 15,
     "metadata": {},
     "output_type": "execute_result"
    }
   ],
   "source": [
    "\"I am going to eat\" + str(num_pancake) + \"pancake.\""
   ]
  },
  {
   "cell_type": "code",
   "execution_count": 26,
   "id": "75775822-5af4-40f4-b24e-529b2028d913",
   "metadata": {},
   "outputs": [
    {
     "data": {
      "text/plain": [
       "'I am going to eat 10 pancake.'"
      ]
     },
     "execution_count": 26,
     "metadata": {},
     "output_type": "execute_result"
    }
   ],
   "source": [
    "\"I am going to eat \" +str(num_pancake) + \" pancake.\""
   ]
  },
  {
   "cell_type": "code",
   "execution_count": 27,
   "id": "85c53a90-9f46-44a2-a238-56639ea5e2bf",
   "metadata": {},
   "outputs": [],
   "source": [
    "total_pancake = 10"
   ]
  },
  {
   "cell_type": "code",
   "execution_count": 28,
   "id": "3895d510-ceba-4e92-9b24-4a22fe33c6f7",
   "metadata": {},
   "outputs": [],
   "source": [
    "pancakes_eaten = 5"
   ]
  },
  {
   "cell_type": "code",
   "execution_count": 31,
   "id": "09a03c89-2fb2-41b2-bd4a-e28f19dd0269",
   "metadata": {},
   "outputs": [
    {
     "data": {
      "text/plain": [
       "'only 5 pancake left.'"
      ]
     },
     "execution_count": 31,
     "metadata": {},
     "output_type": "execute_result"
    }
   ],
   "source": [
    " \"only \" +  str(total_pancake-pancakes_eaten)+ \" pancake left.\""
   ]
  },
  {
   "cell_type": "code",
   "execution_count": 35,
   "id": "e74e530f-8046-44c4-8be1-353b17b79e68",
   "metadata": {},
   "outputs": [
    {
     "data": {
      "text/plain": [
       "'only 5 pancake left.'"
      ]
     },
     "execution_count": 35,
     "metadata": {},
     "output_type": "execute_result"
    }
   ],
   "source": [
    "f\"only {total_pancake-pancakes_eaten} pancake left.\""
   ]
  },
  {
   "cell_type": "code",
   "execution_count": 36,
   "id": "ed776df0-981e-49f0-bae4-2aeaf77b5336",
   "metadata": {},
   "outputs": [],
   "source": [
    "#find a word"
   ]
  },
  {
   "cell_type": "code",
   "execution_count": 37,
   "id": "d466b7ef-f450-47f9-a735-bbfdfedf8fcc",
   "metadata": {},
   "outputs": [],
   "source": [
    "phrase = \"the suprise is in here somewhere\""
   ]
  },
  {
   "cell_type": "code",
   "execution_count": 38,
   "id": "8b7c1eeb-c50f-4ff6-b0a0-0004e5318add",
   "metadata": {},
   "outputs": [
    {
     "data": {
      "text/plain": [
       "4"
      ]
     },
     "execution_count": 38,
     "metadata": {},
     "output_type": "execute_result"
    }
   ],
   "source": [
    "phrase.find(\"suprise\")"
   ]
  },
  {
   "cell_type": "code",
   "execution_count": null,
   "id": "f44759be-e025-452f-8359-5a4e07e9c264",
   "metadata": {},
   "outputs": [],
   "source": [
    "#q1"
   ]
  },
  {
   "cell_type": "code",
   "execution_count": 39,
   "id": "ae9b8600-fb28-44ca-8a76-a1a333398d84",
   "metadata": {},
   "outputs": [],
   "source": [
    "abc =str(10)"
   ]
  },
  {
   "cell_type": "code",
   "execution_count": 40,
   "id": "d0db623b-4bcb-4461-932e-6038965fcb26",
   "metadata": {},
   "outputs": [],
   "source": [
    "xyz =int(abc)"
   ]
  },
  {
   "cell_type": "code",
   "execution_count": 43,
   "id": "1e66ee74-26b9-4d08-ac4a-92a1d91009ee",
   "metadata": {},
   "outputs": [
    {
     "data": {
      "text/plain": [
       "30"
      ]
     },
     "execution_count": 43,
     "metadata": {},
     "output_type": "execute_result"
    }
   ],
   "source": [
    "xyz*3"
   ]
  },
  {
   "cell_type": "code",
   "execution_count": 44,
   "id": "0ddba6ff-2aaa-4e40-883a-aa02bb9405ff",
   "metadata": {},
   "outputs": [],
   "source": [
    "#q2"
   ]
  },
  {
   "cell_type": "code",
   "execution_count": 46,
   "id": "e3b5528d-670a-42ec-baec-f5513f30d6f9",
   "metadata": {},
   "outputs": [],
   "source": [
    "ghi = str(2.5)"
   ]
  },
  {
   "cell_type": "code",
   "execution_count": 47,
   "id": "1e2ee72b-ad51-46ff-a820-1afd7a43a8ec",
   "metadata": {},
   "outputs": [
    {
     "data": {
      "text/plain": [
       "str"
      ]
     },
     "execution_count": 47,
     "metadata": {},
     "output_type": "execute_result"
    }
   ],
   "source": [
    "type(ghi)"
   ]
  },
  {
   "cell_type": "code",
   "execution_count": 48,
   "id": "7e36b598-cf6c-429c-aca2-530825593f10",
   "metadata": {},
   "outputs": [],
   "source": [
    "jkl = float(ghi)"
   ]
  },
  {
   "cell_type": "code",
   "execution_count": 49,
   "id": "4909ae56-a23a-4421-a313-243828b1ec97",
   "metadata": {},
   "outputs": [
    {
     "data": {
      "text/plain": [
       "float"
      ]
     },
     "execution_count": 49,
     "metadata": {},
     "output_type": "execute_result"
    }
   ],
   "source": [
    "type(jkl)"
   ]
  },
  {
   "cell_type": "code",
   "execution_count": 50,
   "id": "e0f3b0aa-dd56-4b5c-bdc6-e0bea487e4c0",
   "metadata": {},
   "outputs": [
    {
     "data": {
      "text/plain": [
       "10.0"
      ]
     },
     "execution_count": 50,
     "metadata": {},
     "output_type": "execute_result"
    }
   ],
   "source": [
    "jkl*4"
   ]
  },
  {
   "cell_type": "code",
   "execution_count": 51,
   "id": "3cafa6d5-12cd-45ac-aa26-8a043bc428d8",
   "metadata": {},
   "outputs": [],
   "source": [
    "#q3"
   ]
  },
  {
   "cell_type": "code",
   "execution_count": 54,
   "id": "c377c7a7-a970-4dd5-8fe2-e1394c94bfac",
   "metadata": {},
   "outputs": [],
   "source": [
    "object_1 = \"hello world\""
   ]
  },
  {
   "cell_type": "code",
   "execution_count": 55,
   "id": "f97a6c2a-2897-4253-952b-19d63b13636d",
   "metadata": {},
   "outputs": [],
   "source": [
    "object_2 = 22"
   ]
  },
  {
   "cell_type": "code",
   "execution_count": 56,
   "id": "f3cd9096-5c8f-4145-ab63-8c36e12395f0",
   "metadata": {},
   "outputs": [
    {
     "data": {
      "text/plain": [
       "str"
      ]
     },
     "execution_count": 56,
     "metadata": {},
     "output_type": "execute_result"
    }
   ],
   "source": [
    "type(object_1)"
   ]
  },
  {
   "cell_type": "code",
   "execution_count": 57,
   "id": "015fdca6-7edb-4cb8-9f4b-acb37a25eef9",
   "metadata": {},
   "outputs": [
    {
     "data": {
      "text/plain": [
       "int"
      ]
     },
     "execution_count": 57,
     "metadata": {},
     "output_type": "execute_result"
    }
   ],
   "source": [
    "type(object_2)"
   ]
  },
  {
   "cell_type": "code",
   "execution_count": 64,
   "id": "09b1560b-9ae0-4ff7-8156-498e52688bda",
   "metadata": {},
   "outputs": [
    {
     "name": "stdout",
     "output_type": "stream",
     "text": [
      "hello world 22\n"
     ]
    }
   ],
   "source": [
    "print((object_1)+\" \"+str(object_2))"
   ]
  },
  {
   "cell_type": "code",
   "execution_count": 65,
   "id": "039ce908-5bc2-44c5-95aa-e0cf417ebcde",
   "metadata": {},
   "outputs": [],
   "source": [
    "#Q4"
   ]
  },
  {
   "cell_type": "code",
   "execution_count": 66,
   "id": "92c1ca74-c96c-4d07-a06e-82fa3c8a9b1b",
   "metadata": {},
   "outputs": [],
   "source": [
    "weight =float(0.2)"
   ]
  },
  {
   "cell_type": "code",
   "execution_count": 86,
   "id": "83e8b73e-68e5-4a35-bfd3-36748b1a1fde",
   "metadata": {},
   "outputs": [],
   "source": [
    "animal = \"newt\""
   ]
  },
  {
   "cell_type": "code",
   "execution_count": 87,
   "id": "b3fbff59-b96b-4591-9b64-fe4924871f09",
   "metadata": {},
   "outputs": [
    {
     "data": {
      "text/plain": [
       "str"
      ]
     },
     "execution_count": 87,
     "metadata": {},
     "output_type": "execute_result"
    }
   ],
   "source": [
    "type(animal)"
   ]
  },
  {
   "cell_type": "code",
   "execution_count": 88,
   "id": "2d6421b9-2528-4f06-b90f-5229ed394fed",
   "metadata": {},
   "outputs": [
    {
     "name": "stdout",
     "output_type": "stream",
     "text": [
      "0.2 kg is the weight of the newt\n"
     ]
    }
   ],
   "source": [
    "print(str(weight)+\" kg is the weight of the \"+(animal))"
   ]
  },
  {
   "cell_type": "code",
   "execution_count": 91,
   "id": "6ae934db-8650-413a-aa49-1d0bea36d8ba",
   "metadata": {},
   "outputs": [
    {
     "data": {
      "text/plain": [
       "'0.2 kg is the weight of the newt'"
      ]
     },
     "execution_count": 91,
     "metadata": {},
     "output_type": "execute_result"
    }
   ],
   "source": [
    "\"{} kg is the weight of the {}\".format(weight,animal)"
   ]
  },
  {
   "cell_type": "code",
   "execution_count": 92,
   "id": "bee76d02-66c3-4838-9304-eb2d8d495cf5",
   "metadata": {},
   "outputs": [],
   "source": [
    "#q5"
   ]
  },
  {
   "cell_type": "code",
   "execution_count": 93,
   "id": "df0917c0-4b40-4e17-9c4f-bbb734fbe062",
   "metadata": {},
   "outputs": [
    {
     "data": {
      "text/plain": [
       "'0.2 kg is the weight of the newt'"
      ]
     },
     "execution_count": 93,
     "metadata": {},
     "output_type": "execute_result"
    }
   ],
   "source": [
    "f\"{weight} kg is the weight of the {animal}\""
   ]
  },
  {
   "cell_type": "code",
   "execution_count": 94,
   "id": "4a270f8e-da99-43b0-947a-392079b752c5",
   "metadata": {},
   "outputs": [],
   "source": [
    "#g6"
   ]
  },
  {
   "cell_type": "code",
   "execution_count": 95,
   "id": "1f7208ed-9bb9-4d0e-b33f-ae30ade9d06a",
   "metadata": {},
   "outputs": [],
   "source": [
    "n_string = \"steve\""
   ]
  },
  {
   "cell_type": "code",
   "execution_count": 96,
   "id": "b136326f-3b49-437f-9dab-71316baf56b7",
   "metadata": {},
   "outputs": [
    {
     "data": {
      "text/plain": [
       "5"
      ]
     },
     "execution_count": 96,
     "metadata": {},
     "output_type": "execute_result"
    }
   ],
   "source": [
    "len(n_string)"
   ]
  },
  {
   "cell_type": "code",
   "execution_count": null,
   "id": "8877f0b0-aaeb-4c87-a641-53c29e89e6d5",
   "metadata": {},
   "outputs": [],
   "source": []
  }
 ],
 "metadata": {
  "kernelspec": {
   "display_name": "Python 3 (ipykernel)",
   "language": "python",
   "name": "python3"
  },
  "language_info": {
   "codemirror_mode": {
    "name": "ipython",
    "version": 3
   },
   "file_extension": ".py",
   "mimetype": "text/x-python",
   "name": "python",
   "nbconvert_exporter": "python",
   "pygments_lexer": "ipython3",
   "version": "3.11.7"
  }
 },
 "nbformat": 4,
 "nbformat_minor": 5
}
