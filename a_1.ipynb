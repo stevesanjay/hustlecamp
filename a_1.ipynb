{
 "cells": [
  {
   "cell_type": "code",
   "execution_count": 1,
   "id": "16abb083-8e70-4959-8085-673ac42f4946",
   "metadata": {},
   "outputs": [],
   "source": [
    "num =2"
   ]
  },
  {
   "cell_type": "code",
   "execution_count": 2,
   "id": "a312e644-ecf0-4e89-b58c-aa73501b9cba",
   "metadata": {},
   "outputs": [
    {
     "data": {
      "text/plain": [
       "4"
      ]
     },
     "execution_count": 2,
     "metadata": {},
     "output_type": "execute_result"
    }
   ],
   "source": [
    "num + num"
   ]
  },
  {
   "cell_type": "code",
   "execution_count": 3,
   "id": "1d5ac934-8b8d-4a73-a1f8-0ff9692f0386",
   "metadata": {},
   "outputs": [],
   "source": [
    "num =\"2\""
   ]
  },
  {
   "cell_type": "code",
   "execution_count": 4,
   "id": "86e17787-a4d1-4864-9caf-2f16b5424300",
   "metadata": {},
   "outputs": [
    {
     "data": {
      "text/plain": [
       "'22'"
      ]
     },
     "execution_count": 4,
     "metadata": {},
     "output_type": "execute_result"
    }
   ],
   "source": [
    "num + num"
   ]
  },
  {
   "cell_type": "code",
   "execution_count": 7,
   "id": "12b6872b-d3eb-44e5-b205-34d744ebc44d",
   "metadata": {},
   "outputs": [
    {
     "name": "stdout",
     "output_type": "stream",
     "text": [
      "2\n"
     ]
    }
   ],
   "source": [
    "print(num)"
   ]
  },
  {
   "cell_type": "code",
   "execution_count": 8,
   "id": "c07e9b7e-8909-49b1-9855-10290a8acbc6",
   "metadata": {},
   "outputs": [
    {
     "data": {
      "text/plain": [
       "12"
      ]
     },
     "execution_count": 8,
     "metadata": {},
     "output_type": "execute_result"
    }
   ],
   "source": [
    "int(12)"
   ]
  },
  {
   "cell_type": "code",
   "execution_count": 10,
   "id": "54df3c10-3fe0-4f1b-945f-391d47989d2f",
   "metadata": {},
   "outputs": [
    {
     "data": {
      "text/plain": [
       "12.0"
      ]
     },
     "execution_count": 10,
     "metadata": {},
     "output_type": "execute_result"
    }
   ],
   "source": [
    "float(\"12\")"
   ]
  },
  {
   "cell_type": "code",
   "execution_count": 14,
   "id": "d6261273-4217-4c89-a5cc-daeadff84be5",
   "metadata": {},
   "outputs": [],
   "source": [
    "num_pancake = 10"
   ]
  },
  {
   "cell_type": "code",
   "execution_count": 15,
   "id": "671aea8e-fee7-47bb-9202-bbde3d2e30af",
   "metadata": {},
   "outputs": [
    {
     "data": {
      "text/plain": [
       "'I am going to eat10pancake.'"
      ]
     },
     "execution_count": 15,
     "metadata": {},
     "output_type": "execute_result"
    }
   ],
   "source": [
    "\"I am going to eat\" + str(num_pancake) + \"pancake.\""
   ]
  },
  {
   "cell_type": "code",
   "execution_count": 26,
   "id": "75775822-5af4-40f4-b24e-529b2028d913",
   "metadata": {},
   "outputs": [
    {
     "data": {
      "text/plain": [
       "'I am going to eat 10 pancake.'"
      ]
     },
     "execution_count": 26,
     "metadata": {},
     "output_type": "execute_result"
    }
   ],
   "source": [
    "\"I am going to eat \" +str(num_pancake) + \" pancake.\""
   ]
  },
  {
   "cell_type": "code",
   "execution_count": 27,
   "id": "85c53a90-9f46-44a2-a238-56639ea5e2bf",
   "metadata": {},
   "outputs": [],
   "source": [
    "total_pancake = 10"
   ]
  },
  {
   "cell_type": "code",
   "execution_count": 28,
   "id": "3895d510-ceba-4e92-9b24-4a22fe33c6f7",
   "metadata": {},
   "outputs": [],
   "source": [
    "pancakes_eaten = 5"
   ]
  },
  {
   "cell_type": "code",
   "execution_count": 31,
   "id": "09a03c89-2fb2-41b2-bd4a-e28f19dd0269",
   "metadata": {},
   "outputs": [
    {
     "data": {
      "text/plain": [
       "'only 5 pancake left.'"
      ]
     },
     "execution_count": 31,
     "metadata": {},
     "output_type": "execute_result"
    }
   ],
   "source": [
    " \"only \" +  str(total_pancake-pancakes_eaten)+ \" pancake left.\""
   ]
  },
  {
   "cell_type": "code",
   "execution_count": 35,
   "id": "e74e530f-8046-44c4-8be1-353b17b79e68",
   "metadata": {},
   "outputs": [
    {
     "data": {
      "text/plain": [
       "'only 5 pancake left.'"
      ]
     },
     "execution_count": 35,
     "metadata": {},
     "output_type": "execute_result"
    }
   ],
   "source": [
    "f\"only {total_pancake-pancakes_eaten} pancake left.\""
   ]
  },
  {
   "cell_type": "code",
   "execution_count": 36,
   "id": "ed776df0-981e-49f0-bae4-2aeaf77b5336",
   "metadata": {},
   "outputs": [],
   "source": [
    "#find a word"
   ]
  },
  {
   "cell_type": "code",
   "execution_count": 37,
   "id": "d466b7ef-f450-47f9-a735-bbfdfedf8fcc",
   "metadata": {},
   "outputs": [],
   "source": [
    "phrase = \"the suprise is in here somewhere\""
   ]
  },
  {
   "cell_type": "code",
   "execution_count": 38,
   "id": "8b7c1eeb-c50f-4ff6-b0a0-0004e5318add",
   "metadata": {},
   "outputs": [
    {
     "data": {
      "text/plain": [
       "4"
      ]
     },
     "execution_count": 38,
     "metadata": {},
     "output_type": "execute_result"
    }
   ],
   "source": [
    "phrase.find(\"suprise\")"
   ]
  },
  {
   "cell_type": "code",
   "execution_count": null,
   "id": "f44759be-e025-452f-8359-5a4e07e9c264",
   "metadata": {},
   "outputs": [],
   "source": [
    "#q1"
   ]
  },
  {
   "cell_type": "code",
   "execution_count": 39,
   "id": "ae9b8600-fb28-44ca-8a76-a1a333398d84",
   "metadata": {},
   "outputs": [],
   "source": [
    "abc =str(10)"
   ]
  },
  {
   "cell_type": "code",
   "execution_count": 40,
   "id": "d0db623b-4bcb-4461-932e-6038965fcb26",
   "metadata": {},
   "outputs": [],
   "source": [
    "xyz =int(abc)"
   ]
  },
  {
   "cell_type": "code",
   "execution_count": 43,
   "id": "1e66ee74-26b9-4d08-ac4a-92a1d91009ee",
   "metadata": {},
   "outputs": [
    {
     "data": {
      "text/plain": [
       "30"
      ]
     },
     "execution_count": 43,
     "metadata": {},
     "output_type": "execute_result"
    }
   ],
   "source": [
    "xyz*3"
   ]
  },
  {
   "cell_type": "code",
   "execution_count": 44,
   "id": "0ddba6ff-2aaa-4e40-883a-aa02bb9405ff",
   "metadata": {},
   "outputs": [],
   "source": [
    "#q2"
   ]
  },
  {
   "cell_type": "code",
   "execution_count": 46,
   "id": "e3b5528d-670a-42ec-baec-f5513f30d6f9",
   "metadata": {},
   "outputs": [],
   "source": [
    "ghi = str(2.5)"
   ]
  },
  {
   "cell_type": "code",
   "execution_count": 47,
   "id": "1e2ee72b-ad51-46ff-a820-1afd7a43a8ec",
   "metadata": {},
   "outputs": [
    {
     "data": {
      "text/plain": [
       "str"
      ]
     },
     "execution_count": 47,
     "metadata": {},
     "output_type": "execute_result"
    }
   ],
   "source": [
    "type(ghi)"
   ]
  },
  {
   "cell_type": "code",
   "execution_count": 48,
   "id": "7e36b598-cf6c-429c-aca2-530825593f10",
   "metadata": {},
   "outputs": [],
   "source": [
    "jkl = float(ghi)"
   ]
  },
  {
   "cell_type": "code",
   "execution_count": 49,
   "id": "4909ae56-a23a-4421-a313-243828b1ec97",
   "metadata": {},
   "outputs": [
    {
     "data": {
      "text/plain": [
       "float"
      ]
     },
     "execution_count": 49,
     "metadata": {},
     "output_type": "execute_result"
    }
   ],
   "source": [
    "type(jkl)"
   ]
  },
  {
   "cell_type": "code",
   "execution_count": 50,
   "id": "e0f3b0aa-dd56-4b5c-bdc6-e0bea487e4c0",
   "metadata": {},
   "outputs": [
    {
     "data": {
      "text/plain": [
       "10.0"
      ]
     },
     "execution_count": 50,
     "metadata": {},
     "output_type": "execute_result"
    }
   ],
   "source": [
    "jkl*4"
   ]
  },
  {
   "cell_type": "code",
   "execution_count": 51,
   "id": "3cafa6d5-12cd-45ac-aa26-8a043bc428d8",
   "metadata": {},
   "outputs": [],
   "source": [
    "#q3"
   ]
  },
  {
   "cell_type": "code",
   "execution_count": 54,
   "id": "c377c7a7-a970-4dd5-8fe2-e1394c94bfac",
   "metadata": {},
   "outputs": [],
   "source": [
    "object_1 = \"hello world\""
   ]
  },
  {
   "cell_type": "code",
   "execution_count": 55,
   "id": "f97a6c2a-2897-4253-952b-19d63b13636d",
   "metadata": {},
   "outputs": [],
   "source": [
    "object_2 = 22"
   ]
  },
  {
   "cell_type": "code",
   "execution_count": 56,
   "id": "f3cd9096-5c8f-4145-ab63-8c36e12395f0",
   "metadata": {},
   "outputs": [
    {
     "data": {
      "text/plain": [
       "str"
      ]
     },
     "execution_count": 56,
     "metadata": {},
     "output_type": "execute_result"
    }
   ],
   "source": [
    "type(object_1)"
   ]
  },
  {
   "cell_type": "code",
   "execution_count": 57,
   "id": "015fdca6-7edb-4cb8-9f4b-acb37a25eef9",
   "metadata": {},
   "outputs": [
    {
     "data": {
      "text/plain": [
       "int"
      ]
     },
     "execution_count": 57,
     "metadata": {},
     "output_type": "execute_result"
    }
   ],
   "source": [
    "type(object_2)"
   ]
  },
  {
   "cell_type": "code",
   "execution_count": 64,
   "id": "09b1560b-9ae0-4ff7-8156-498e52688bda",
   "metadata": {},
   "outputs": [
    {
     "name": "stdout",
     "output_type": "stream",
     "text": [
      "hello world 22\n"
     ]
    }
   ],
   "source": [
    "print((object_1)+\" \"+str(object_2))"
   ]
  },
  {
   "cell_type": "code",
   "execution_count": 65,
   "id": "039ce908-5bc2-44c5-95aa-e0cf417ebcde",
   "metadata": {},
   "outputs": [],
   "source": [
    "#Q4"
   ]
  },
  {
   "cell_type": "code",
   "execution_count": 66,
   "id": "92c1ca74-c96c-4d07-a06e-82fa3c8a9b1b",
   "metadata": {},
   "outputs": [],
   "source": [
    "weight =float(0.2)"
   ]
  },
  {
   "cell_type": "code",
   "execution_count": 86,
   "id": "83e8b73e-68e5-4a35-bfd3-36748b1a1fde",
   "metadata": {},
   "outputs": [],
   "source": [
    "animal = \"newt\""
   ]
  },
  {
   "cell_type": "code",
   "execution_count": 87,
   "id": "b3fbff59-b96b-4591-9b64-fe4924871f09",
   "metadata": {},
   "outputs": [
    {
     "data": {
      "text/plain": [
       "str"
      ]
     },
     "execution_count": 87,
     "metadata": {},
     "output_type": "execute_result"
    }
   ],
   "source": [
    "type(animal)"
   ]
  },
  {
   "cell_type": "code",
   "execution_count": 88,
   "id": "2d6421b9-2528-4f06-b90f-5229ed394fed",
   "metadata": {},
   "outputs": [
    {
     "name": "stdout",
     "output_type": "stream",
     "text": [
      "0.2 kg is the weight of the newt\n"
     ]
    }
   ],
   "source": [
    "print(str(weight)+\" kg is the weight of the \"+(animal))"
   ]
  },
  {
   "cell_type": "code",
   "execution_count": 91,
   "id": "6ae934db-8650-413a-aa49-1d0bea36d8ba",
   "metadata": {},
   "outputs": [
    {
     "data": {
      "text/plain": [
       "'0.2 kg is the weight of the newt'"
      ]
     },
     "execution_count": 91,
     "metadata": {},
     "output_type": "execute_result"
    }
   ],
   "source": [
    "\"{} kg is the weight of the {}\".format(weight,animal)"
   ]
  },
  {
   "cell_type": "code",
   "execution_count": 92,
   "id": "bee76d02-66c3-4838-9304-eb2d8d495cf5",
   "metadata": {},
   "outputs": [],
   "source": [
    "#q5"
   ]
  },
  {
   "cell_type": "code",
   "execution_count": 93,
   "id": "df0917c0-4b40-4e17-9c4f-bbb734fbe062",
   "metadata": {},
   "outputs": [
    {
     "data": {
      "text/plain": [
       "'0.2 kg is the weight of the newt'"
      ]
     },
     "execution_count": 93,
     "metadata": {},
     "output_type": "execute_result"
    }
   ],
   "source": [
    "f\"{weight} kg is the weight of the {animal}\""
   ]
  },
  {
   "cell_type": "code",
   "execution_count": 100,
   "id": "4a270f8e-da99-43b0-947a-392079b752c5",
   "metadata": {},
   "outputs": [],
   "source": [
    "#q6 -76"
   ]
  },
  {
   "cell_type": "code",
   "execution_count": 101,
   "id": "1f7208ed-9bb9-4d0e-b33f-ae30ade9d06a",
   "metadata": {},
   "outputs": [],
   "source": [
    "n_string = \"steve\""
   ]
  },
  {
   "cell_type": "code",
   "execution_count": 102,
   "id": "b136326f-3b49-437f-9dab-71316baf56b7",
   "metadata": {},
   "outputs": [
    {
     "data": {
      "text/plain": [
       "5"
      ]
     },
     "execution_count": 102,
     "metadata": {},
     "output_type": "execute_result"
    }
   ],
   "source": [
    "len(n_string)"
   ]
  },
  {
   "cell_type": "code",
   "execution_count": 103,
   "id": "51b971b4-04b4-425a-aa34-31ba0beed315",
   "metadata": {},
   "outputs": [],
   "source": [
    "#q7"
   ]
  },
  {
   "cell_type": "code",
   "execution_count": 104,
   "id": "6cf92c4e-5d91-4251-aa5e-95671b55e0eb",
   "metadata": {},
   "outputs": [],
   "source": [
    "string1 = \"steve\""
   ]
  },
  {
   "cell_type": "code",
   "execution_count": 105,
   "id": "ab9798b0-f486-405f-ac24-25abd9a80d13",
   "metadata": {},
   "outputs": [],
   "source": [
    "string2 = \"sanjay\""
   ]
  },
  {
   "cell_type": "code",
   "execution_count": 107,
   "id": "eb6502eb-19ec-4f13-ac8b-73ef66b826b5",
   "metadata": {},
   "outputs": [
    {
     "name": "stdout",
     "output_type": "stream",
     "text": [
      "steve sanjay\n"
     ]
    }
   ],
   "source": [
    "print(string1 +\" \"+ string2)"
   ]
  },
  {
   "cell_type": "code",
   "execution_count": 108,
   "id": "cd99ca9a-32b9-4bce-b127-233e9448f0d6",
   "metadata": {},
   "outputs": [],
   "source": [
    "#q8"
   ]
  },
  {
   "cell_type": "code",
   "execution_count": 119,
   "id": "d3e139a7-dc2c-487a-90c3-4e24c94fb9ea",
   "metadata": {},
   "outputs": [],
   "source": [
    "word = \"zing\""
   ]
  },
  {
   "cell_type": "code",
   "execution_count": 120,
   "id": "26719f6a-903b-404b-be28-9a3be63c87d3",
   "metadata": {},
   "outputs": [],
   "source": [
    "word = \"ba\"+word[1:]"
   ]
  },
  {
   "cell_type": "raw",
   "id": "aa6bb932-b8c2-4800-9b77-d5efccf74144",
   "metadata": {},
   "source": [
    "word"
   ]
  },
  {
   "cell_type": "code",
   "execution_count": 127,
   "id": "f79e9322-bf76-4e18-b902-f7c8a632f6f6",
   "metadata": {},
   "outputs": [
    {
     "data": {
      "text/plain": [
       "5"
      ]
     },
     "execution_count": 127,
     "metadata": {},
     "output_type": "execute_result"
    }
   ],
   "source": [
    "len(word)"
   ]
  },
  {
   "cell_type": "raw",
   "id": "5399d20d-4cc2-413f-90ea-12b820279f02",
   "metadata": {},
   "source": [
    "type(word)"
   ]
  },
  {
   "cell_type": "raw",
   "id": "4cd6fbda-9b69-45f3-a896-2055e649af97",
   "metadata": {},
   "source": [
    "print(\"hello word\")"
   ]
  },
  {
   "cell_type": "code",
   "execution_count": 128,
   "id": "e60e1b99-e57f-4bb5-b795-5fc8524f9dc5",
   "metadata": {},
   "outputs": [],
   "source": [
    "#q9 -84"
   ]
  },
  {
   "cell_type": "code",
   "execution_count": 144,
   "id": "c80e69eb-9809-49ea-abc3-56b4e4ecb6b1",
   "metadata": {},
   "outputs": [],
   "source": [
    "Name = \"Animals\""
   ]
  },
  {
   "cell_type": "code",
   "execution_count": 145,
   "id": "129bcf26-e1b4-4338-9993-1d346f04786f",
   "metadata": {},
   "outputs": [
    {
     "name": "stdout",
     "output_type": "stream",
     "text": [
      "ANIMALS\n"
     ]
    }
   ],
   "source": [
    "print(Name.upper())"
   ]
  },
  {
   "cell_type": "code",
   "execution_count": 146,
   "id": "87c1e369-236a-40b4-8e63-2547c96ce6d7",
   "metadata": {},
   "outputs": [
    {
     "name": "stdout",
     "output_type": "stream",
     "text": [
      "animals\n"
     ]
    }
   ],
   "source": [
    "print(Name.lower())"
   ]
  },
  {
   "cell_type": "code",
   "execution_count": 147,
   "id": "d80d0197-a627-4b7a-84bb-9992be65da3c",
   "metadata": {},
   "outputs": [],
   "source": [
    "string1 = \" Filet Mignon\""
   ]
  },
  {
   "cell_type": "code",
   "execution_count": 148,
   "id": "b6a67de3-d2ff-46d7-912c-e1a378163f00",
   "metadata": {},
   "outputs": [],
   "source": [
    "string2 = \"Brisket \""
   ]
  },
  {
   "cell_type": "code",
   "execution_count": 149,
   "id": "818e79ab-e90d-4e9f-a1c0-412f7f5adb8f",
   "metadata": {},
   "outputs": [],
   "source": [
    "String3 = \" Cheeseburger \""
   ]
  },
  {
   "cell_type": "code",
   "execution_count": 150,
   "id": "5e6d56b1-c396-40f0-be7b-e11084bf0917",
   "metadata": {},
   "outputs": [
    {
     "data": {
      "text/plain": [
       "'Filet Mignon'"
      ]
     },
     "execution_count": 150,
     "metadata": {},
     "output_type": "execute_result"
    }
   ],
   "source": [
    "string1.lstrip()"
   ]
  },
  {
   "cell_type": "code",
   "execution_count": 151,
   "id": "68accb24-dd38-47b5-8d8b-d47713e4944c",
   "metadata": {},
   "outputs": [
    {
     "data": {
      "text/plain": [
       "'Brisket'"
      ]
     },
     "execution_count": 151,
     "metadata": {},
     "output_type": "execute_result"
    }
   ],
   "source": [
    "string2.rstrip()"
   ]
  },
  {
   "cell_type": "code",
   "execution_count": 153,
   "id": "6cead083-9128-4241-8089-c9950c2c1c12",
   "metadata": {},
   "outputs": [
    {
     "data": {
      "text/plain": [
       "'Cheeseburger'"
      ]
     },
     "execution_count": 153,
     "metadata": {},
     "output_type": "execute_result"
    }
   ],
   "source": [
    "String3.strip()"
   ]
  },
  {
   "cell_type": "code",
   "execution_count": 156,
   "id": "be3c1d76-b2c6-4f4e-b4ea-527a065fc8d1",
   "metadata": {},
   "outputs": [],
   "source": [
    "#q10"
   ]
  },
  {
   "cell_type": "code",
   "execution_count": 158,
   "id": "00deb940-8c46-4c08-9e18-cc7234c75ae4",
   "metadata": {},
   "outputs": [],
   "source": [
    "string_1 = \"Becomes\""
   ]
  },
  {
   "cell_type": "code",
   "execution_count": 159,
   "id": "a7b701a8-2363-4d33-aaa6-efef529321b7",
   "metadata": {},
   "outputs": [],
   "source": [
    "string_2 = \"becomes\""
   ]
  },
  {
   "cell_type": "code",
   "execution_count": 161,
   "id": "5aea015d-7834-4e60-b7ec-423f2c234a50",
   "metadata": {},
   "outputs": [],
   "source": [
    "string_3 = \"BEAR\""
   ]
  },
  {
   "cell_type": "code",
   "execution_count": 162,
   "id": "01f64c6f-1092-478b-a642-af0403ff983a",
   "metadata": {},
   "outputs": [],
   "source": [
    "string_4 = \" bEautiful\""
   ]
  },
  {
   "cell_type": "code",
   "execution_count": 163,
   "id": "d9a1f042-2465-42eb-baba-078cd03646aa",
   "metadata": {},
   "outputs": [
    {
     "data": {
      "text/plain": [
       "True"
      ]
     },
     "execution_count": 163,
     "metadata": {},
     "output_type": "execute_result"
    }
   ],
   "source": [
    "string_2.startswith(\"be\")"
   ]
  },
  {
   "cell_type": "code",
   "execution_count": 164,
   "id": "c2dbe93f-5195-4d4d-9afc-5151c27aadd2",
   "metadata": {},
   "outputs": [
    {
     "data": {
      "text/plain": [
       "False"
      ]
     },
     "execution_count": 164,
     "metadata": {},
     "output_type": "execute_result"
    }
   ],
   "source": [
    "string_4.startswith(\"be\")"
   ]
  },
  {
   "cell_type": "code",
   "execution_count": 165,
   "id": "9f129711-063c-420f-b63c-44b4185ec141",
   "metadata": {},
   "outputs": [
    {
     "data": {
      "text/plain": [
       "True"
      ]
     },
     "execution_count": 165,
     "metadata": {},
     "output_type": "execute_result"
    }
   ],
   "source": [
    "string_1.endswith(\"es\")"
   ]
  },
  {
   "cell_type": "code",
   "execution_count": 166,
   "id": "a06b3955-2864-411f-b363-4c31d0ac1d37",
   "metadata": {},
   "outputs": [
    {
     "data": {
      "text/plain": [
       "False"
      ]
     },
     "execution_count": 166,
     "metadata": {},
     "output_type": "execute_result"
    }
   ],
   "source": [
    "string_3.endswith(\"es\")"
   ]
  },
  {
   "cell_type": "code",
   "execution_count": null,
   "id": "4d4fecfc-aabb-4891-a6a4-2b3d4e2642a4",
   "metadata": {},
   "outputs": [],
   "source": []
  }
 ],
 "metadata": {
  "kernelspec": {
   "display_name": "Python 3 (ipykernel)",
   "language": "python",
   "name": "python3"
  },
  "language_info": {
   "codemirror_mode": {
    "name": "ipython",
    "version": 3
   },
   "file_extension": ".py",
   "mimetype": "text/x-python",
   "name": "python",
   "nbconvert_exporter": "python",
   "pygments_lexer": "ipython3",
   "version": "3.11.7"
  }
 },
 "nbformat": 4,
 "nbformat_minor": 5
}
