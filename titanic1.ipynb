{
 "cells": [
  {
   "cell_type": "code",
   "execution_count": 1,
   "id": "2d0a3d2e-df03-4427-b680-e08c81f4fb06",
   "metadata": {},
   "outputs": [],
   "source": [
    "import pandas as pd"
   ]
  },
  {
   "cell_type": "code",
   "execution_count": 2,
   "id": "62aa7aea-8bec-4b2c-a6f7-be09f2168f2d",
   "metadata": {},
   "outputs": [],
   "source": [
    "df = pd.read_csv('train.csv')"
   ]
  },
  {
   "cell_type": "code",
   "execution_count": 17,
   "id": "bec9654c-42b1-4e03-a983-4ae46f9b1ce0",
   "metadata": {},
   "outputs": [],
   "source": [
    "def custom(Pclass):\n",
    "    if Pclass == 1:\n",
    "        return \"no\"\n",
    "    elif Pclass == 2:\n",
    "        return \"yes\"\n",
    "    elif Pclass == 3:\n",
    "        return \"yes\""
   ]
  },
  {
   "cell_type": "code",
   "execution_count": 18,
   "id": "92075476-65a5-49a0-a03f-29ad6f8713e7",
   "metadata": {},
   "outputs": [],
   "source": [
    "df['specialclass'] = df['Pclass'].apply(custom)"
   ]
  },
  {
   "cell_type": "code",
   "execution_count": 16,
   "id": "51f1e115-6f4b-4196-8ffc-7898d27b2418",
   "metadata": {},
   "outputs": [
    {
     "name": "stdout",
     "output_type": "stream",
     "text": [
      "     PassengerId  Survived  Pclass  \\\n",
      "0              1         0       3   \n",
      "1              2         1       1   \n",
      "2              3         1       3   \n",
      "3              4         1       1   \n",
      "4              5         0       3   \n",
      "..           ...       ...     ...   \n",
      "886          887         0       2   \n",
      "887          888         1       1   \n",
      "888          889         0       3   \n",
      "889          890         1       1   \n",
      "890          891         0       3   \n",
      "\n",
      "                                                  Name     Sex   Age  SibSp  \\\n",
      "0                              Braund, Mr. Owen Harris    male  22.0      1   \n",
      "1    Cumings, Mrs. John Bradley (Florence Briggs Th...  female  38.0      1   \n",
      "2                               Heikkinen, Miss. Laina  female  26.0      0   \n",
      "3         Futrelle, Mrs. Jacques Heath (Lily May Peel)  female  35.0      1   \n",
      "4                             Allen, Mr. William Henry    male  35.0      0   \n",
      "..                                                 ...     ...   ...    ...   \n",
      "886                              Montvila, Rev. Juozas    male  27.0      0   \n",
      "887                       Graham, Miss. Margaret Edith  female  19.0      0   \n",
      "888           Johnston, Miss. Catherine Helen \"Carrie\"  female   NaN      1   \n",
      "889                              Behr, Mr. Karl Howell    male  26.0      0   \n",
      "890                                Dooley, Mr. Patrick    male  32.0      0   \n",
      "\n",
      "     Parch            Ticket     Fare Cabin Embarked specialclass  \n",
      "0        0         A/5 21171   7.2500   NaN        S          yes  \n",
      "1        0          PC 17599  71.2833   C85        C           no  \n",
      "2        0  STON/O2. 3101282   7.9250   NaN        S          yes  \n",
      "3        0            113803  53.1000  C123        S           no  \n",
      "4        0            373450   8.0500   NaN        S          yes  \n",
      "..     ...               ...      ...   ...      ...          ...  \n",
      "886      0            211536  13.0000   NaN        S          yes  \n",
      "887      0            112053  30.0000   B42        S           no  \n",
      "888      2        W./C. 6607  23.4500   NaN        S          yes  \n",
      "889      0            111369  30.0000  C148        C           no  \n",
      "890      0            370376   7.7500   NaN        Q          yes  \n",
      "\n",
      "[891 rows x 13 columns]\n"
     ]
    }
   ],
   "source": [
    "print(df)"
   ]
  },
  {
   "cell_type": "code",
   "execution_count": null,
   "id": "a4b454cf-a564-4188-902e-98704f399793",
   "metadata": {},
   "outputs": [],
   "source": []
  }
 ],
 "metadata": {
  "kernelspec": {
   "display_name": "Python 3 (ipykernel)",
   "language": "python",
   "name": "python3"
  },
  "language_info": {
   "codemirror_mode": {
    "name": "ipython",
    "version": 3
   },
   "file_extension": ".py",
   "mimetype": "text/x-python",
   "name": "python",
   "nbconvert_exporter": "python",
   "pygments_lexer": "ipython3",
   "version": "3.8.13"
  }
 },
 "nbformat": 4,
 "nbformat_minor": 5
}
