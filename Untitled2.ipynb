{
 "cells": [
  {
   "cell_type": "code",
   "execution_count": 1,
   "id": "4b2e3481-113d-4cf0-b385-a51adf102012",
   "metadata": {},
   "outputs": [],
   "source": [
    "import pandas as pd"
   ]
  },
  {
   "cell_type": "code",
   "execution_count": 2,
   "id": "4be46e23-9c34-427a-b3df-c1d43a96e9ef",
   "metadata": {},
   "outputs": [],
   "source": [
    "df = pd.read_csv('ML system design case studies.csv')"
   ]
  },
  {
   "cell_type": "code",
   "execution_count": 3,
   "id": "44a71551-50dc-407d-98a2-bdb97b39e3ad",
   "metadata": {},
   "outputs": [
    {
     "name": "stdout",
     "output_type": "stream",
     "text": [
      "        Company               Industry      Short Description (< 5 words)  \\\n",
      "0        Stripe    Fintech and banking    Prevent fraudelent transactions   \n",
      "1       Walmart  E-commerce and retail      Recommend complementary items   \n",
      "2          Uber  Delivery and mobility  Forecast demand for airport rides   \n",
      "3     Pinterest       Social platforms           Prevent advertiser churn   \n",
      "4    Stitch Fix  E-commerce and retail              Generate ad headlines   \n",
      "..          ...                    ...                                ...   \n",
      "295     Netflix    Media and streaming          Improve streaming quality   \n",
      "296        Lyft  Delivery and mobility                Identify user fraud   \n",
      "297   Instacart  E-commerce and retail  Predict grocery item availability   \n",
      "298        Lyft  Delivery and mobility       Personalize marketing offers   \n",
      "299   Instacart  E-commerce and retail   Optimize food delivery logistics   \n",
      "\n",
      "                                                 Title  \\\n",
      "0                        How we built it: Stripe Radar   \n",
      "1               Personalized ‘Complete the Look’ model   \n",
      "2               Demand and ETR Forecasting at Airports   \n",
      "3    An ML based approach to proactive advertiser c...   \n",
      "4    A New Era of Creativity: Expert-in-the-loop Ge...   \n",
      "..                                                 ...   \n",
      "295  Using Machine Learning to Improve Streaming Qu...   \n",
      "296             From shallow to deep learning in fraud   \n",
      "297  Predicting the real-time availability of 200 m...   \n",
      "298  Empowering personalized marketing with machine...   \n",
      "299                          Space, Time and Groceries   \n",
      "\n",
      "                                                Tag  Year  \\\n",
      "0                                   fraud detection  2023   \n",
      "1             recommender system,product feature,CV  2023   \n",
      "2                                demand forecasting  2023   \n",
      "3                                  churn prediction  2023   \n",
      "4                 product feature,NLP,generative AI  2023   \n",
      "..                                              ...   ...   \n",
      "295                             ops,product feature  2018   \n",
      "296                                 fraud detection  2018   \n",
      "297                              demand forecasting  2018   \n",
      "298  ad ranking / targeting,content personalization  2018   \n",
      "299                              ETA prediction,ops  2017   \n",
      "\n",
      "                                                  Link  \n",
      "0    https://stripe.com/blog/how-we-built-it-stripe...  \n",
      "1    https://medium.com/walmartglobaltech/personali...  \n",
      "2    https://www.uber.com/en-GB/blog/demand-and-etr...  \n",
      "3    https://medium.com/pinterest-engineering/an-ml...  \n",
      "4    https://multithreaded.stitchfix.com/blog/2023/...  \n",
      "..                                                 ...  \n",
      "295  https://netflixtechblog.com/using-machine-lear...  \n",
      "296  https://eng.lyft.com/from-shallow-to-deep-lear...  \n",
      "297  https://tech.instacart.com/predicting-real-tim...  \n",
      "298  https://eng.lyft.com/empowering-personalized-m...  \n",
      "299  https://tech.instacart.com/space-time-and-groc...  \n",
      "\n",
      "[300 rows x 7 columns]\n"
     ]
    }
   ],
   "source": [
    "print(df)"
   ]
  },
  {
   "cell_type": "code",
   "execution_count": 4,
   "id": "4a55aec5-1d7a-4421-8016-a8f2685d03da",
   "metadata": {},
   "outputs": [
    {
     "data": {
      "text/plain": [
       "300"
      ]
     },
     "execution_count": 4,
     "metadata": {},
     "output_type": "execute_result"
    }
   ],
   "source": [
    "len(df)"
   ]
  },
  {
   "cell_type": "code",
   "execution_count": 24,
   "id": "3e9f8d8a-920a-4e00-a63f-17a5d76871e1",
   "metadata": {},
   "outputs": [
    {
     "name": "stdout",
     "output_type": "stream",
     "text": [
      "done\n"
     ]
    }
   ],
   "source": [
    "with open('finals.txt','w') as text_file:\n",
    "    for index, row in df.iterrows():\n",
    "        company = row['Company']\n",
    "        Industry= row['Industry']\n",
    "        Short  = row['Short Description (< 5 words)']\n",
    "        Title= row['Title'] \n",
    "        Tag= row['Tag'] \n",
    "        Year= row['Year'] \n",
    "        Link= row['Link'] \n",
    "        formatted_content = f\"\"\"\n",
    "        \n",
    "{index + 1}\n",
    "\n",
    "Company:\n",
    "{company}\n",
    "\n",
    "\n",
    "Industry:\n",
    "{Industry}\n",
    "\n",
    "\n",
    "Short Description (< 5 words):\n",
    "{Short}\n",
    "\n",
    "Title:\n",
    "{Title}\n",
    "\n",
    "\n",
    "Tag:\n",
    "{Tag}\n",
    "\n",
    "\n",
    "Year:\n",
    "{Year}\n",
    "\n",
    "\n",
    "Link:\n",
    "{Link}\n",
    "\"\"\"\n",
    "        text_file.write(f'{formatted_content}\\n')\n",
    "        text_file.write(f\"-\"*122)\n",
    "print(\"done\")"
   ]
  },
  {
   "cell_type": "code",
   "execution_count": null,
   "id": "55c133da-2b18-4839-81c5-6acbbd1dcfd3",
   "metadata": {},
   "outputs": [],
   "source": []
  },
  {
   "cell_type": "code",
   "execution_count": null,
   "id": "d2c5a299-9b39-4aff-afad-b54f4ed26c86",
   "metadata": {},
   "outputs": [],
   "source": []
  }
 ],
 "metadata": {
  "kernelspec": {
   "display_name": "Python 3 (ipykernel)",
   "language": "python",
   "name": "python3"
  },
  "language_info": {
   "codemirror_mode": {
    "name": "ipython",
    "version": 3
   },
   "file_extension": ".py",
   "mimetype": "text/x-python",
   "name": "python",
   "nbconvert_exporter": "python",
   "pygments_lexer": "ipython3",
   "version": "3.8.13"
  }
 },
 "nbformat": 4,
 "nbformat_minor": 5
}
