{
 "cells": [
  {
   "cell_type": "code",
   "execution_count": 1,
   "id": "b2729c9c-a63c-4786-bb8b-e62a30b5e0e9",
   "metadata": {},
   "outputs": [],
   "source": [
    "# 1. convert float column to int col"
   ]
  },
  {
   "cell_type": "code",
   "execution_count": 22,
   "id": "054bb073-fa27-47e3-afb7-a8cd770a81e1",
   "metadata": {},
   "outputs": [],
   "source": [
    "import pandas as pd"
   ]
  },
  {
   "cell_type": "code",
   "execution_count": 23,
   "id": "7a19fcb8-ceed-4b07-be96-b7d353a438df",
   "metadata": {},
   "outputs": [],
   "source": [
    "data = {'float_column': [1.1, 2.2, 3.3, 4.4, 5.5]}"
   ]
  },
  {
   "cell_type": "code",
   "execution_count": 24,
   "id": "e1692f9a-99f4-4f49-a0b7-ce78812df2fe",
   "metadata": {},
   "outputs": [],
   "source": [
    "df = pd.DataFrame(data)"
   ]
  },
  {
   "cell_type": "code",
   "execution_count": 25,
   "id": "4a03579d-393c-48c4-b94a-259e81fbc983",
   "metadata": {},
   "outputs": [],
   "source": [
    "df['int_column'] = df['float_column'].astype(int)"
   ]
  },
  {
   "cell_type": "code",
   "execution_count": 26,
   "id": "be45d65d-988d-44e7-96e9-190349654594",
   "metadata": {},
   "outputs": [
    {
     "name": "stdout",
     "output_type": "stream",
     "text": [
      "   float_column  int_column\n",
      "0           1.1           1\n",
      "1           2.2           2\n",
      "2           3.3           3\n",
      "3           4.4           4\n",
      "4           5.5           5\n"
     ]
    }
   ],
   "source": [
    "print(df)"
   ]
  },
  {
   "cell_type": "code",
   "execution_count": null,
   "id": "a28c3924-6797-423d-b372-0e0b0e195435",
   "metadata": {},
   "outputs": [],
   "source": [
    "# 2 pandas one column value as a list"
   ]
  },
  {
   "cell_type": "code",
   "execution_count": 29,
   "id": "cba32169-bb18-41f3-9b13-50059bc344a6",
   "metadata": {},
   "outputs": [
    {
     "name": "stdout",
     "output_type": "stream",
     "text": [
      "[1, 2, 3, 4, 5]\n"
     ]
    }
   ],
   "source": [
    "import pandas as pd\n",
    "\n",
    "# Sample DataFrame\n",
    "data = {'column_name': [1, 2, 3, 4, 5]}\n",
    "df = pd.DataFrame(data)\n",
    "\n",
    "# Convert column to list\n",
    "column_list = df['column_name'].tolist()\n",
    "\n",
    "print(column_list)"
   ]
  },
  {
   "cell_type": "code",
   "execution_count": 31,
   "id": "e45c5d88-fda4-46f6-9b74-f182b2324b98",
   "metadata": {},
   "outputs": [],
   "source": [
    "# 3"
   ]
  },
  {
   "cell_type": "code",
   "execution_count": 32,
   "id": "0ea8b78f-ebaa-4706-955f-2e57d264237c",
   "metadata": {},
   "outputs": [],
   "source": [
    "import pandas as pd\n",
    "\n",
    "# Sample DataFrame\n",
    "data = {'column1': [1, 2, 3],\n",
    "        'column2': ['a', 'b', 'c']}\n",
    "\n",
    "df = pd.DataFrame(data)\n",
    "\n",
    "# Save DataFrame to CSV without index\n",
    "df.to_csv('output.csv', index=False)"
   ]
  },
  {
   "cell_type": "code",
   "execution_count": 33,
   "id": "d45699c0-79e6-4807-9894-2b2cbd6bacb9",
   "metadata": {},
   "outputs": [
    {
     "name": "stdout",
     "output_type": "stream",
     "text": [
      "   column1 column2\n",
      "0        1       a\n",
      "1        2       b\n",
      "2        3       c\n"
     ]
    }
   ],
   "source": [
    "print(df)"
   ]
  },
  {
   "cell_type": "code",
   "execution_count": 36,
   "id": "04268ff3-496c-423f-a051-34b62b039d76",
   "metadata": {},
   "outputs": [],
   "source": [
    "# 4 renaming-column-names-in-pandas"
   ]
  },
  {
   "cell_type": "code",
   "execution_count": 37,
   "id": "b5516b43-6d5d-4f6e-86b6-51e24ac1042a",
   "metadata": {},
   "outputs": [],
   "source": [
    "import pandas as pd"
   ]
  },
  {
   "cell_type": "code",
   "execution_count": 39,
   "id": "d0e7320f-4b5b-4bde-bdb0-7f4fadfd6986",
   "metadata": {},
   "outputs": [],
   "source": [
    "df = pd.read_csv('student-scores.csv')"
   ]
  },
  {
   "cell_type": "code",
   "execution_count": 42,
   "id": "883deb7f-0135-4067-9cae-5504c9819bd7",
   "metadata": {},
   "outputs": [],
   "source": [
    "# print(df)"
   ]
  },
  {
   "cell_type": "code",
   "execution_count": 43,
   "id": "f6fe3002-bbd9-40e5-ac45-1703da2bfb09",
   "metadata": {},
   "outputs": [],
   "source": [
    "file = pd.DataFrame(df)"
   ]
  },
  {
   "cell_type": "code",
   "execution_count": 44,
   "id": "5cb132a5-bae8-4792-850b-2de810d183fe",
   "metadata": {},
   "outputs": [],
   "source": [
    "file = file.rename(columns={'id':'sno'})"
   ]
  },
  {
   "cell_type": "code",
   "execution_count": 45,
   "id": "42127d94-22bf-4369-8964-8bc27653a3d2",
   "metadata": {},
   "outputs": [
    {
     "name": "stdout",
     "output_type": "stream",
     "text": [
      "       sno first_name last_name                                    email  \\\n",
      "0        1       Paul     Casey           paul.casey.1@gslingacademy.com   \n",
      "1        2   Danielle  Sandoval    danielle.sandoval.2@gslingacademy.com   \n",
      "2        3       Tina   Andrews         tina.andrews.3@gslingacademy.com   \n",
      "3        4       Tara     Clark           tara.clark.4@gslingacademy.com   \n",
      "4        5    Anthony    Campos       anthony.campos.5@gslingacademy.com   \n",
      "...    ...        ...       ...                                      ...   \n",
      "1995  1996       Alan  Reynolds     alan.reynolds.1996@gslingacademy.com   \n",
      "1996  1997     Thomas   Gilbert    thomas.gilbert.1997@gslingacademy.com   \n",
      "1997  1998    Madison     Cross     madison.cross.1998@gslingacademy.com   \n",
      "1998  1999   Brittany   Compton  brittany.compton.1999@gslingacademy.com   \n",
      "1999  2000    Natalie     Smith     natalie.smith.2000@gslingacademy.com   \n",
      "\n",
      "      gender  part_time_job  absence_days  extracurricular_activities  \\\n",
      "0       male          False             3                       False   \n",
      "1     female          False             2                       False   \n",
      "2     female          False             9                        True   \n",
      "3     female          False             5                       False   \n",
      "4       male          False             5                       False   \n",
      "...      ...            ...           ...                         ...   \n",
      "1995    male          False             2                       False   \n",
      "1996    male          False             2                       False   \n",
      "1997  female          False             5                       False   \n",
      "1998  female           True            10                        True   \n",
      "1999  female          False             5                       False   \n",
      "\n",
      "      weekly_self_study_hours      career_aspiration  math_score  \\\n",
      "0                          27                 Lawyer          73   \n",
      "1                          47                 Doctor          90   \n",
      "2                          13     Government Officer          81   \n",
      "3                           3                 Artist          71   \n",
      "4                          10                Unknown          84   \n",
      "...                       ...                    ...         ...   \n",
      "1995                       30  Construction Engineer          83   \n",
      "1996                       20      Software Engineer          89   \n",
      "1997                       14      Software Engineer          97   \n",
      "1998                        5         Business Owner          51   \n",
      "1999                       27             Accountant          82   \n",
      "\n",
      "      history_score  physics_score  chemistry_score  biology_score  \\\n",
      "0                81             93               97             63   \n",
      "1                86             96              100             90   \n",
      "2                97             95               96             65   \n",
      "3                74             88               80             89   \n",
      "4                77             65               65             80   \n",
      "...             ...            ...              ...            ...   \n",
      "1995             77             84               73             75   \n",
      "1996             65             73               80             87   \n",
      "1997             85             63               93             68   \n",
      "1998             96             72               89             95   \n",
      "1999             99             91               69             83   \n",
      "\n",
      "      english_score  geography_score  \n",
      "0                80               87  \n",
      "1                88               90  \n",
      "2                77               94  \n",
      "3                63               86  \n",
      "4                74               76  \n",
      "...             ...              ...  \n",
      "1995             84               82  \n",
      "1996             67               73  \n",
      "1997             94               78  \n",
      "1998             88               75  \n",
      "1999             93              100  \n",
      "\n",
      "[2000 rows x 17 columns]\n"
     ]
    }
   ],
   "source": [
    "print(file)"
   ]
  },
  {
   "cell_type": "code",
   "execution_count": 46,
   "id": "7ec58314-2075-4916-9412-0107a80e8cf5",
   "metadata": {},
   "outputs": [],
   "source": [
    "# pandas-show-entire-rows-without-truncation"
   ]
  },
  {
   "cell_type": "code",
   "execution_count": 54,
   "id": "ee98504f-b2f9-4eb5-a0f2-4e504987987c",
   "metadata": {},
   "outputs": [],
   "source": [
    "import pandas as pd"
   ]
  },
  {
   "cell_type": "code",
   "execution_count": 55,
   "id": "1644dc1c-f998-4237-abdf-aef80787d1d5",
   "metadata": {},
   "outputs": [],
   "source": [
    "data = pd.read_csv('student-scores.csv')"
   ]
  },
  {
   "cell_type": "code",
   "execution_count": 56,
   "id": "6f765ff9-9708-422d-a001-9d9eff4db02e",
   "metadata": {},
   "outputs": [],
   "source": [
    "df = pd.DataFrame(data)"
   ]
  },
  {
   "cell_type": "code",
   "execution_count": 61,
   "id": "40b35907-5a1e-40ae-8824-1a8c660d5c46",
   "metadata": {},
   "outputs": [],
   "source": [
    "\n",
    "pd.set_option('display.max_colwidth', None)"
   ]
  },
  {
   "cell_type": "code",
   "execution_count": 62,
   "id": "db1646ae-e8bc-4ff8-9a01-826cefd0971c",
   "metadata": {},
   "outputs": [],
   "source": [
    "pd.set_option('display.max_rows', None)"
   ]
  },
  {
   "cell_type": "code",
   "execution_count": 63,
   "id": "7254429d-9656-4bde-bca6-85d7fc26c05f",
   "metadata": {},
   "outputs": [
    {
     "name": "stdout",
     "output_type": "stream",
     "text": [
      "<module 'pandas' from '/usr/local/Caskroom/miniconda/base/envs/py38/lib/python3.8/site-packages/pandas/__init__.py'>\n"
     ]
    }
   ],
   "source": [
    "print(pd)"
   ]
  },
  {
   "cell_type": "code",
   "execution_count": 64,
   "id": "7c41e4e8-bdf5-4503-abf2-d10849842f9b",
   "metadata": {},
   "outputs": [],
   "source": [
    "# 6 add column after specific column + pandas"
   ]
  },
  {
   "cell_type": "code",
   "execution_count": null,
   "id": "b58fa490-443f-4903-b149-98c6422e8e0c",
   "metadata": {},
   "outputs": [],
   "source": []
  },
  {
   "cell_type": "code",
   "execution_count": 2,
   "id": "300b0454-4008-4227-aa9c-aff6374d31d3",
   "metadata": {},
   "outputs": [],
   "source": [
    "import pandas as pd\n",
    "\n",
    "# Read the CSV file into a DataFrame\n",
    "df = pd.read_csv('student-scores.csv')\n",
    "\n",
    "# Define the value you want to assign to the new column\n",
    "new_column_value = 'specific_value'\n",
    "\n",
    "# Add a new column and assign the specific value to all rows\n",
    "df['new_column_name'] = new_column_value\n",
    "\n",
    "# Now, if you want to select a specific row, you can use any of the methods mentioned earlier\n",
    "# For example, to select the 5th row:\n",
    "specific_row = df.iloc[4]"
   ]
  },
  {
   "cell_type": "code",
   "execution_count": 3,
   "id": "91728799-14c2-46ac-b5da-3ec0c7fad178",
   "metadata": {},
   "outputs": [
    {
     "name": "stdout",
     "output_type": "stream",
     "text": [
      "id                                                             5\n",
      "first_name                                               Anthony\n",
      "last_name                                                 Campos\n",
      "email                         anthony.campos.5@gslingacademy.com\n",
      "gender                                                      male\n",
      "part_time_job                                              False\n",
      "absence_days                                                   5\n",
      "extracurricular_activities                                 False\n",
      "weekly_self_study_hours                                       10\n",
      "career_aspiration                                        Unknown\n",
      "math_score                                                    84\n",
      "history_score                                                 77\n",
      "physics_score                                                 65\n",
      "chemistry_score                                               65\n",
      "biology_score                                                 80\n",
      "english_score                                                 74\n",
      "geography_score                                               76\n",
      "new_column_name                                   specific_value\n",
      "Name: 4, dtype: object\n"
     ]
    }
   ],
   "source": [
    "print(specific_row)"
   ]
  },
  {
   "cell_type": "code",
   "execution_count": null,
   "id": "b5c261b4-32a2-4faa-a9a9-562fe4922dea",
   "metadata": {},
   "outputs": [],
   "source": []
  }
 ],
 "metadata": {
  "kernelspec": {
   "display_name": "Python 3 (ipykernel)",
   "language": "python",
   "name": "python3"
  },
  "language_info": {
   "codemirror_mode": {
    "name": "ipython",
    "version": 3
   },
   "file_extension": ".py",
   "mimetype": "text/x-python",
   "name": "python",
   "nbconvert_exporter": "python",
   "pygments_lexer": "ipython3",
   "version": "3.8.13"
  }
 },
 "nbformat": 4,
 "nbformat_minor": 5
}
